{
 "cells": [
  {
   "cell_type": "markdown",
   "metadata": {},
   "source": [
    "# Copy a Pretrained Network between Frameworks\n",
    "\n",
    "Since a large CNN is very time-consuming to train (even on a GPU), and requires huge amounts of data, is there any way to use a pre-calculated one instead of retraining the whole thing from scratch?  \n",
    "\n",
    "This notebook shows how this can be done, so that the same data can be used in a different framework.\n",
    "\n",
    "The code here is slightly rough-and-ready, since to be interested in doing it assumes some level of familiarity..."
   ]
  },
  {
   "cell_type": "code",
   "execution_count": null,
   "metadata": {
    "collapsed": true,
    "scrolled": true
   },
   "outputs": [],
   "source": [
    "import tensorflow as tf\n",
    "#  NB: On GPU, TF 1.3 expects cuDNN 6.0.  Also need protobuf==3.3 (not 3.4)\n",
    "\n",
    "import numpy as np"
   ]
  },
  {
   "cell_type": "markdown",
   "metadata": {},
   "source": [
    "### Add TensorFlow Slim Model Zoo to path"
   ]
  },
  {
   "cell_type": "code",
   "execution_count": null,
   "metadata": {
    "scrolled": true
   },
   "outputs": [],
   "source": [
    "import os, sys\n",
    "better_instructions = '2-CNN/4-ImageNet/4-ImageClassifier-inception_tf.ipynb'\n",
    "\n",
    "if not os.path.isfile( '../models/tensorflow_zoo/models/README.md' ):\n",
    "    print(\"Please follow the instructions in %s to get the Slim-Model-Zoo installed\" % better_instructions)\n",
    "else:\n",
    "    sys.path.append('../models/tensorflow_zoo/models/slim')\n",
    "    print(\"Model Zoo model code installed\")"
   ]
  },
  {
   "cell_type": "code",
   "execution_count": null,
   "metadata": {
    "scrolled": true
   },
   "outputs": [],
   "source": [
    "from datasets import dataset_utils\n",
    "\n",
    "checkpoint_file = '../data/tensorflow_zoo/checkpoints/inception_v1.ckpt'\n",
    "if not os.path.isfile( checkpoint_file ):\n",
    "    print(\"Please follow the instructions in %s to get the Checkpoint installed\" % better_instructions)\n",
    "else:\n",
    "    print(\"Checkpoint available locally\")"
   ]
  },
  {
   "cell_type": "code",
   "execution_count": null,
   "metadata": {
    "scrolled": true
   },
   "outputs": [],
   "source": [
    "if not os.path.isfile('../data/imagenet_synset_words.txt'):\n",
    "    print(\"Please follow the instructions in %s to get the synset_words file\" % better_instructions)\n",
    "else:    \n",
    "    print(\"ImageNet synset labels available\")"
   ]
  },
  {
   "cell_type": "markdown",
   "metadata": {},
   "source": [
    "### Build the model in TensorFlow"
   ]
  },
  {
   "cell_type": "code",
   "execution_count": null,
   "metadata": {
    "collapsed": true,
    "scrolled": true
   },
   "outputs": [],
   "source": [
    "slim = tf.contrib.slim\n",
    "from nets import inception\n",
    "#from preprocessing import inception_preprocessing\n",
    "\n",
    "#image_size = inception.inception_v1.default_image_size\n",
    "#image_size"
   ]
  },
  {
   "cell_type": "code",
   "execution_count": null,
   "metadata": {
    "scrolled": true
   },
   "outputs": [],
   "source": [
    "tf.reset_default_graph()\n",
    "\n",
    "if False:\n",
    "    # Define the pre-processing chain within the graph - from a raw image\n",
    "    input_image = tf.placeholder(tf.uint8, shape=[None, None, None, 3], name='input_image')\n",
    "    processed_image = inception_preprocessing.preprocess_image(input_image, image_size, image_size, is_training=False)\n",
    "    processed_images = tf.expand_dims(processed_image, 0)\n",
    "\n",
    "processed_images = tf.placeholder(tf.float32, shape=[None, None, None, 3])\n",
    "\n",
    "# Create the model - which uses the above pre-processing on image\n",
    "#   it also uses the default arg scope to configure the batch norm parameters.\n",
    "print(\"Model builder starting\")\n",
    "\n",
    "# Here is the actual model zoo model being instantiated :\n",
    "with slim.arg_scope(inception.inception_v1_arg_scope()):\n",
    "    logits, end_points = inception.inception_v1(processed_images, num_classes=1001, is_training=False)\n",
    "#probabilities = tf.nn.softmax(logits)\n",
    "\n",
    "# Create an operation that loads the pre-trained model from the checkpoint\n",
    "init_fn = slim.assign_from_checkpoint_fn(checkpoint_file, slim.get_model_variables('InceptionV1') )\n",
    "\n",
    "print(\"Model defined\")"
   ]
  },
  {
   "cell_type": "markdown",
   "metadata": {},
   "source": [
    "### Get the values from the TF model into a NumPy structure\n",
    "Mostly because it's easier for me to reason about NumPy..."
   ]
  },
  {
   "cell_type": "code",
   "execution_count": null,
   "metadata": {},
   "outputs": [],
   "source": [
    "capture_names =[] \n",
    "capture_values=dict()\n",
    "\n",
    "# Now let's run the pre-trained model\n",
    "with tf.Session() as sess:\n",
    "    # This is the loader 'op' we defined above\n",
    "    init_fn(sess)  \n",
    "    \n",
    "    #variables = tf.trainable_variables()\n",
    "    variables = tf.model_variables()  # includes moving average information\n",
    "    for variable in variables:\n",
    "        name, value = variable.name, variable.eval()\n",
    "        capture_names.append(name)\n",
    "        capture_values[name] = value\n",
    "        print(\"%20s %8d %s \" % (value.shape, np.prod(value.shape), name, ))\n",
    "        \n",
    "    \"\"\"\n",
    "    BatchNorm variables are (beta,moving_mean,moving_variance) separately (trainable==beta only)\n",
    "               (64,)       64 InceptionV1/Conv2d_1a_7x7/BatchNorm/beta:0 \n",
    "               (64,)       64 InceptionV1/Conv2d_1a_7x7/BatchNorm/moving_mean:0 \n",
    "               (64,)       64 InceptionV1/Conv2d_1a_7x7/BatchNorm/moving_variance:0     \n",
    "    \"\"\"\n",
    "\n",
    "# This fixes a typo in the original slim library...\n",
    "if 'InceptionV1/Mixed_5b/Branch_2/Conv2d_0a_3x3/weights:0' in capture_values:\n",
    "    for w in ['weights:0', 'BatchNorm/beta:0', 'BatchNorm/moving_mean:0', 'BatchNorm/moving_variance:0']:\n",
    "        capture_values['InceptionV1/Mixed_5b/Branch_2/Conv2d_0b_3x3/'+w] = (\n",
    "            capture_values['InceptionV1/Mixed_5b/Branch_2/Conv2d_0a_3x3/'+w]\n",
    "        )      "
   ]
  },
  {
   "cell_type": "markdown",
   "metadata": {},
   "source": [
    "#### And show the ```end_points```"
   ]
  },
  {
   "cell_type": "code",
   "execution_count": null,
   "metadata": {},
   "outputs": [],
   "source": [
    "for e in sorted(end_points.keys()):\n",
    "    print(e)"
   ]
  },
  {
   "cell_type": "code",
   "execution_count": null,
   "metadata": {
    "collapsed": true
   },
   "outputs": [],
   "source": [
    "model_old = dict(names=capture_names, values=capture_values, \n",
    "                 check_names=end_points.keys(), check_values=dict())"
   ]
  },
  {
   "cell_type": "markdown",
   "metadata": {},
   "source": [
    "###  Now grab outputs for a sample image at the ```end_points```"
   ]
  },
  {
   "cell_type": "code",
   "execution_count": null,
   "metadata": {
    "collapsed": true
   },
   "outputs": [],
   "source": [
    "import matplotlib.pyplot as plt\n",
    "img_raw = plt.imread('../images/cat-with-tongue_224x224.jpg')\n",
    "#img_raw.shape\n",
    "\n",
    "# This is how the model_old does it in the pre-processing stages (so must be the same for model_new)\n",
    "img = ( img_raw.astype('float32')/255.0 - 0.5 ) * 2.0\n",
    "imgs = img[np.newaxis, :, :, :]"
   ]
  },
  {
   "cell_type": "code",
   "execution_count": null,
   "metadata": {},
   "outputs": [],
   "source": [
    "with tf.Session() as sess:\n",
    "    # This is the loader 'op' we defined above\n",
    "    init_fn(sess)  \n",
    "    \n",
    "    # This run grabs all the layer constants for the original photo image input\n",
    "    check_names = model_old['check_names']\n",
    "    end_points_values = sess.run([ end_points[k] for k in check_names ], feed_dict={processed_images: imgs})\n",
    "    \n",
    "    #model_old['check_values']={ k:end_points_values[i] for i,k in enumerate(check_names) }\n",
    "    model_old['check_values']=dict( zip(check_names, end_points_values) )"
   ]
  },
  {
   "cell_type": "markdown",
   "metadata": {},
   "source": [
    "----------\n",
    "## Define the Model Structure in Framework 'B'\n",
    "\n",
    "( choosing Keras here )\n"
   ]
  },
  {
   "cell_type": "code",
   "execution_count": null,
   "metadata": {},
   "outputs": [],
   "source": [
    "# This is taken from https://github.com/fchollet/deep-learning-models/blob/master/inception_v3.py\n",
    "from keras.models import Model\n",
    "from keras import layers\n",
    "from keras.layers import Input\n",
    "from keras.layers import Conv2D\n",
    "from keras.layers import Activation\n",
    "from keras.layers import BatchNormalization\n",
    "from keras.layers import MaxPooling2D, AveragePooling2D\n",
    "from keras.layers import Dropout\n",
    "from keras.layers import Flatten\n",
    "from keras.layers import GlobalMaxPooling2D, GlobalAveragePooling2D\n",
    "\n",
    "from keras.engine.topology import get_source_inputs\n",
    "from keras.utils.layer_utils import convert_all_kernels_in_model\n",
    "from keras.utils.data_utils import get_file\n",
    "from keras import backend as K\n",
    "from keras.applications.imagenet_utils import decode_predictions\n",
    "from keras.applications.imagenet_utils import _obtain_input_shape\n",
    "from keras.preprocessing import image"
   ]
  },
  {
   "cell_type": "code",
   "execution_count": null,
   "metadata": {
    "collapsed": true
   },
   "outputs": [],
   "source": [
    "# This is taken from https://github.com/fchollet/deep-learning-models/blob/master/inception_v3.py\n",
    "def conv2d_bn(x,\n",
    "              filters,\n",
    "              num_row,\n",
    "              num_col,\n",
    "              padding='same',\n",
    "              strides=(1, 1),\n",
    "              normalizer=True,\n",
    "              activation='relu',\n",
    "              name=None):\n",
    "    \"\"\"Utility function to apply conv + BN.\n",
    "    Arguments:\n",
    "        x: input tensor.\n",
    "        filters: filters in `Conv2D`.\n",
    "        num_row: height of the convolution kernel.\n",
    "        num_col: width of the convolution kernel.\n",
    "        padding: padding mode in `Conv2D`.\n",
    "        strides: strides in `Conv2D`.\n",
    "        name: name of the ops; will become `name + '_conv'`\n",
    "            for the convolution, `name + '_bn'` for the\n",
    "            batch norm layer and `name + '_act'` for the\n",
    "            activation layer.\n",
    "    Returns:\n",
    "        Output tensor after applying `Conv2D` and `BatchNormalization`.\n",
    "    \"\"\"\n",
    "    if name is not None:\n",
    "        conv_name = name + '_conv'\n",
    "        bn_name = name + '_bn'\n",
    "        act_name = name + '_act'\n",
    "    else:\n",
    "        conv_name = None\n",
    "        bn_name = None\n",
    "        act_name = None\n",
    "    if K.image_data_format() == 'channels_first':\n",
    "        bn_axis = 1\n",
    "    else:\n",
    "        bn_axis = 3\n",
    "    x = Conv2D(\n",
    "            filters, (num_row, num_col),\n",
    "            strides=strides, padding=padding,\n",
    "            use_bias=False, name=conv_name)(x)\n",
    "    if normalizer:\n",
    "        x = BatchNormalization(axis=bn_axis, scale=False, name=bn_name)(x)\n",
    "    if activation:\n",
    "        x = Activation(activation, name=act_name)(x)\n",
    "    return x"
   ]
  },
  {
   "cell_type": "code",
   "execution_count": null,
   "metadata": {
    "collapsed": true
   },
   "outputs": [],
   "source": [
    "# Convenience function for 'standard' Inception concatenated blocks\n",
    "def concatenated_block(x, specs, channel_axis, name):\n",
    "    (br0, br1, br2, br3) = specs   # ((64,), (96,128), (16,32), (32,))\n",
    "    \n",
    "    branch_0 = conv2d_bn(x, br0[0], 1, 1, name=name+\"_Branch_0_a_1x1\")\n",
    "\n",
    "    branch_1 = conv2d_bn(x, br1[0], 1, 1, name=name+\"_Branch_1_a_1x1\")\n",
    "    branch_1 = conv2d_bn(branch_1, br1[1], 3, 3, name=name+\"_Branch_1_b_3x3\")\n",
    "\n",
    "    branch_2 = conv2d_bn(x, br2[0], 1, 1, name=name+\"_Branch_2_a_1x1\")\n",
    "    branch_2 = conv2d_bn(branch_2, br2[1], 3, 3, name=name+\"_Branch_2_b_3x3\")\n",
    "\n",
    "    branch_3 = MaxPooling2D( (3, 3), strides=(1, 1), padding='same', name=name+\"_Branch_3_a_max\")(x)  \n",
    "    branch_3 = conv2d_bn(branch_3, br3[0], 1, 1, name=name+\"_Branch_3_b_1x1\")\n",
    "\n",
    "    x = layers.concatenate(\n",
    "        [branch_0, branch_1, branch_2, branch_3],\n",
    "        axis=channel_axis,\n",
    "        name=name+\"_Concatenated\")\n",
    "    return x"
   ]
  },
  {
   "cell_type": "code",
   "execution_count": null,
   "metadata": {
    "collapsed": true,
    "scrolled": true
   },
   "outputs": [],
   "source": [
    "def InceptionV1(include_top=True,\n",
    "                weights='imagenet',\n",
    "                input_tensor=None,\n",
    "                input_shape=None,\n",
    "                pooling=None,\n",
    "                classes=1000):\n",
    "    \"\"\"Instantiates the Inception v1 architecture.\n",
    "\n",
    "    This architecture is defined in:\n",
    "        Going deeper with convolutions\n",
    "        Christian Szegedy, Wei Liu, Yangqing Jia, Pierre Sermanet, Scott Reed,\n",
    "        Dragomir Anguelov, Dumitru Erhan, Vincent Vanhoucke, Andrew Rabinovich.\n",
    "        http://arxiv.org/pdf/1409.4842v1.pdf.\n",
    "    \n",
    "    Optionally loads weights pre-trained\n",
    "    on ImageNet. Note that when using TensorFlow,\n",
    "    for best performance you should set\n",
    "    `image_data_format=\"channels_last\"` in your Keras config\n",
    "    at ~/.keras/keras.json.\n",
    "    The model and the weights are compatible with both\n",
    "    TensorFlow and Theano. The data format\n",
    "    convention used by the model is the one\n",
    "    specified in your Keras config file.\n",
    "    Note that the default input image size for this model is 224x224.\n",
    "    Arguments:\n",
    "        include_top: whether to include the fully-connected\n",
    "            layer at the top of the network.\n",
    "        weights: one of `None` (random initialization)\n",
    "            or \"imagenet\" (pre-training on ImageNet).\n",
    "        input_tensor: optional Keras tensor (i.e. output of `layers.Input()`)\n",
    "            to use as image input for the model.\n",
    "        input_shape: optional shape tuple, only to be specified\n",
    "            if `include_top` is False (otherwise the input shape\n",
    "            has to be `(224, 224, 3)` (with `channels_last` data format)\n",
    "            or `(3, 224, 224)` (with `channels_first` data format).\n",
    "            It should have exactly 3 inputs channels,\n",
    "            and width and height should be no smaller than 139.\n",
    "            E.g. `(150, 150, 3)` would be one valid value.\n",
    "        pooling: Optional pooling mode for feature extraction\n",
    "            when `include_top` is `False`.\n",
    "            - `None` means that the output of the model will be\n",
    "                the 4D tensor output of the\n",
    "                last convolutional layer.\n",
    "            - `avg` means that global average pooling\n",
    "                will be applied to the output of the\n",
    "                last convolutional layer, and thus\n",
    "                the output of the model will be a 2D tensor.\n",
    "            - `max` means that global max pooling will\n",
    "                be applied.\n",
    "        classes: optional number of classes to classify images\n",
    "            into, only to be specified if `include_top` is True, and\n",
    "            if no `weights` argument is specified.\n",
    "    Returns:\n",
    "        A Keras model instance.\n",
    "    Raises:\n",
    "        ValueError: in case of invalid argument for `weights`,\n",
    "            or invalid input shape.\n",
    "    \"\"\"\n",
    "    if weights not in {'imagenet', None}:\n",
    "        raise ValueError('The `weights` argument should be either '\n",
    "                         '`None` (random initialization) or `imagenet` '\n",
    "                         '(pre-training on ImageNet).')\n",
    "\n",
    "    if weights == 'imagenet' and include_top and classes != 1000:\n",
    "        raise ValueError('If using `weights` as imagenet with `include_top`'\n",
    "                         ' as true, `classes` should be 1000')\n",
    "\n",
    "    # Determine proper input shape\n",
    "    input_shape = _obtain_input_shape(\n",
    "        input_shape,\n",
    "        #default_size=299,\n",
    "        default_size=224,\n",
    "        min_size=139,\n",
    "        data_format=K.image_data_format(),\n",
    "        include_top=include_top)\n",
    "\n",
    "    if input_tensor is None:\n",
    "        img_input = Input(shape=input_shape)\n",
    "    else:\n",
    "        img_input = Input(tensor=input_tensor, shape=input_shape)\n",
    "\n",
    "    if K.image_data_format() == 'channels_first':\n",
    "        channel_axis = 1\n",
    "    else:\n",
    "        channel_axis = 3\n",
    "\n",
    "    # 'Sequential bit at start'\n",
    "    x = img_input\n",
    "    x = conv2d_bn(x,  64, 7, 7, strides=(2, 2), padding='same',  name='Conv2d_1a_7x7')  \n",
    "    \n",
    "    x = MaxPooling2D((3, 3), strides=(2, 2), padding='same', name='MaxPool_2a_3x3')(x)  \n",
    "    \n",
    "    x = conv2d_bn(x,  64, 1, 1, strides=(1, 1), padding='same', name='Conv2d_2b_1x1')  \n",
    "    x = conv2d_bn(x, 192, 3, 3, strides=(1, 1), padding='same', name='Conv2d_2c_3x3')  \n",
    "    \n",
    "    x = MaxPooling2D((3, 3), strides=(2, 2), padding='same', name='MaxPool_3a_3x3')(x)  \n",
    "    \n",
    "    # Now the '3' level inception units\n",
    "    x = concatenated_block(x, (( 64,), ( 96,128), (16, 32), ( 32,)), channel_axis, 'Mixed_3b')\n",
    "    x = concatenated_block(x, ((128,), (128,192), (32, 96), ( 64,)), channel_axis, 'Mixed_3c')\n",
    "\n",
    "    x = MaxPooling2D((3, 3), strides=(2, 2), padding='same', name='MaxPool_4a_3x3')(x)  \n",
    "\n",
    "    # Now the '4' level inception units\n",
    "    x = concatenated_block(x, ((192,), ( 96,208), (16, 48), ( 64,)), channel_axis, 'Mixed_4b')\n",
    "    x = concatenated_block(x, ((160,), (112,224), (24, 64), ( 64,)), channel_axis, 'Mixed_4c')\n",
    "    x = concatenated_block(x, ((128,), (128,256), (24, 64), ( 64,)), channel_axis, 'Mixed_4d')\n",
    "    x = concatenated_block(x, ((112,), (144,288), (32, 64), ( 64,)), channel_axis, 'Mixed_4e')\n",
    "    x = concatenated_block(x, ((256,), (160,320), (32,128), (128,)), channel_axis, 'Mixed_4f')\n",
    "\n",
    "    x = MaxPooling2D((2, 2), strides=(2, 2), padding='same', name='MaxPool_5a_2x2')(x)  \n",
    "\n",
    "    # Now the '5' level inception units\n",
    "    x = concatenated_block(x, ((256,), (160,320), (32,128), (128,)), channel_axis, 'Mixed_5b')\n",
    "    x = concatenated_block(x, ((384,), (192,384), (48,128), (128,)), channel_axis, 'Mixed_5c')\n",
    "    \n",
    "\n",
    "    if include_top:\n",
    "        # Classification block\n",
    "        \n",
    "        # 'AvgPool_0a_7x7'\n",
    "        x = AveragePooling2D((7, 7), strides=(1, 1), padding='valid')(x)  \n",
    "        \n",
    "        # 'Dropout_0b'\n",
    "        x = Dropout(0.2)(x)  # slim has keep_prob (@0.8), keras uses drop_fraction\n",
    "        \n",
    "        #logits = conv2d_bn(x,  classes+1, 1, 1, strides=(1, 1), padding='valid', name='Logits',\n",
    "        #                   normalizer=False, activation=None, )  \n",
    "        \n",
    "        # Write out the logits explictly, since it is pretty different\n",
    "        x = Conv2D(classes+1, (1, 1), strides=(1,1), padding='valid', use_bias=True, name='Logits')(x)\n",
    "        \n",
    "        x = Flatten(name='Logits_flat')(x)\n",
    "        #x = x[:, 1:]  # ??Shift up so that first class ('blank background') vanishes\n",
    "        # Would be more efficient to strip off position[0] from the weights+bias terms directly in 'Logits'\n",
    "        \n",
    "        x = Activation('softmax', name='Predictions')(x)\n",
    "    else:\n",
    "        if pooling == 'avg':\n",
    "            x = GlobalAveragePooling2D(name='global_pooling')(x)\n",
    "        elif pooling == 'max':\n",
    "            x = GlobalMaxPooling2D(    name='global_pooling')(x)\n",
    "\n",
    "    # Ensure that the model takes into account\n",
    "    # any potential predecessors of `input_tensor`.\n",
    "    if input_tensor is not None:\n",
    "        inputs = get_source_inputs(input_tensor)\n",
    "    else:\n",
    "        inputs = img_input\n",
    "        \n",
    "    # Finally : Create model\n",
    "    model = Model(inputs, x, name='inception_v1')\n",
    "    \n",
    "    # LOAD model weights (TODO)\n",
    "    \n",
    "    return model"
   ]
  },
  {
   "cell_type": "markdown",
   "metadata": {},
   "source": [
    "#### Let's try and instantiate the new model\n"
   ]
  },
  {
   "cell_type": "code",
   "execution_count": null,
   "metadata": {
    "collapsed": true
   },
   "outputs": [],
   "source": [
    "include_top=True\n",
    "\n",
    "model_new = InceptionV1(weights='imagenet', include_top=include_top)"
   ]
  },
  {
   "cell_type": "code",
   "execution_count": null,
   "metadata": {},
   "outputs": [],
   "source": [
    "model_new.summary()\n",
    "# 'Connected to' isn't showing up due to Keras bug https://github.com/fchollet/keras/issues/6286"
   ]
  },
  {
   "cell_type": "markdown",
   "metadata": {},
   "source": [
    "### Map the weights from Old to New"
   ]
  },
  {
   "cell_type": "code",
   "execution_count": null,
   "metadata": {
    "collapsed": true
   },
   "outputs": [],
   "source": [
    "def show_old_model_expected_shapes(model, name):\n",
    "    v = model['values'][name]\n",
    "    print('OLD    :', v.shape, name)\n",
    "\n",
    "def show_new_model_expected_shapes(model, name):\n",
    "    layer = model.get_layer(name)\n",
    "    weights = layer.get_weights()\n",
    "    for i, w in enumerate(weights):\n",
    "        print('NEW[%d] : %s %s' % (i, w.shape, name))\n",
    "\n",
    "# This depends on the naming conventions...\n",
    "def copy_CNN_weight_with_bn(model_old, name_old, model_new, name_new):\n",
    "    # See : https://github.com/fchollet/keras/issues/1671 \n",
    "    weights = model_old['values'][name_old+'/weights:0']\n",
    "    layer = model_new.get_layer(name_new+\"_conv\")\n",
    "    layer.set_weights([weights])\n",
    "    \n",
    "    weights0 = model_old['values'][name_old+'/BatchNorm/beta:0']\n",
    "    weights1 = model_old['values'][name_old+'/BatchNorm/moving_mean:0']\n",
    "    weights2 = model_old['values'][name_old+'/BatchNorm/moving_variance:0']\n",
    "    layer = model_new.get_layer(name_new+\"_bn\")\n",
    "    weights_all = layer.get_weights()\n",
    "    weights_all[0]=weights0\n",
    "    weights_all[1]=weights1\n",
    "    weights_all[2]=weights2\n",
    "    layer.set_weights(weights_all)\n",
    "    #print( weights_all[0] )\n",
    "    #layer.set_weights([weights, np.zeros_like(weights), np.ones_like(weights), ])"
   ]
  },
  {
   "cell_type": "code",
   "execution_count": null,
   "metadata": {},
   "outputs": [],
   "source": [
    "show_old_model_expected_shapes(model_old, 'InceptionV1/Conv2d_1a_7x7/weights:0')\n",
    "show_new_model_expected_shapes(model_new, 'Conv2d_1a_7x7_conv')\n",
    "\n",
    "show_old_model_expected_shapes(model_old, 'InceptionV1/Conv2d_1a_7x7/BatchNorm/beta:0')\n",
    "show_old_model_expected_shapes(model_old, 'InceptionV1/Conv2d_1a_7x7/BatchNorm/moving_mean:0')\n",
    "show_old_model_expected_shapes(model_old, 'InceptionV1/Conv2d_1a_7x7/BatchNorm/moving_variance:0')\n",
    "show_new_model_expected_shapes(model_new, 'Conv2d_1a_7x7_bn')\n",
    "\n",
    "#model_old['values']['InceptionV1/Conv2d_1a_7x7/BatchNorm/moving_mean:0']\n",
    "#model_old['values']['InceptionV1/Conv2d_1a_7x7/BatchNorm/moving_variance:0']\n",
    "\n",
    "#copy_CNN_weight_with_bn(model_old, 'InceptionV1/Conv2d_1a_7x7', model_new, 'Conv2d_1a_7x7')\n",
    "#copy_CNN_weight_with_bn(model_old, 'InceptionV1/Conv2d_2b_1x1', model_new, 'Conv2d_2b_1x1')\n",
    "#copy_CNN_weight_with_bn(model_old, 'InceptionV1/Conv2d_2c_3x3', model_new, 'Conv2d_2c_3x3')\n",
    "for block in [\n",
    "        'Conv2d_1a_7x7', \n",
    "        'Conv2d_2b_1x1',\n",
    "        'Conv2d_2c_3x3',\n",
    "    ]:\n",
    "    print(\"Copying %s\" % (block,))    \n",
    "    copy_CNN_weight_with_bn(model_old, 'InceptionV1/'+block, model_new, block)\n",
    "\n",
    "print(\"Finished All\")"
   ]
  },
  {
   "cell_type": "code",
   "execution_count": null,
   "metadata": {},
   "outputs": [],
   "source": [
    "# This depends on the naming conventions...\n",
    "def copy_inception_block_weights(model_old, block_old, model_new, block_new):\n",
    "    # e.g. FROM : InceptionV1/Mixed_3b/Branch_0/Conv2d_0a_1x1\n",
    "    #        TO : Mixed_3b_Branch_1_a_1x1\n",
    "    # block_old = 'InceptionV1/Mixed_3b'\n",
    "    # block_new = 'Mixed_3b'\n",
    "    copy_CNN_weight_with_bn(model_old, block_old+'/Branch_0/Conv2d_0a_1x1', model_new, block_new+'_Branch_0_a_1x1')\n",
    "    \n",
    "    copy_CNN_weight_with_bn(model_old, block_old+'/Branch_1/Conv2d_0a_1x1', model_new, block_new+'_Branch_1_a_1x1')\n",
    "    copy_CNN_weight_with_bn(model_old, block_old+'/Branch_1/Conv2d_0b_3x3', model_new, block_new+'_Branch_1_b_3x3')\n",
    "\n",
    "    copy_CNN_weight_with_bn(model_old, block_old+'/Branch_2/Conv2d_0a_1x1', model_new, block_new+'_Branch_2_a_1x1')\n",
    "    copy_CNN_weight_with_bn(model_old, block_old+'/Branch_2/Conv2d_0b_3x3', model_new, block_new+'_Branch_2_b_3x3')\n",
    "\n",
    "    copy_CNN_weight_with_bn(model_old, block_old+'/Branch_3/Conv2d_0b_1x1', model_new, block_new+'_Branch_3_b_1x1')\n",
    "\n",
    "#copy_inception_block_weights(model_old, 'InceptionV1/Mixed_3b', model_new, 'Mixed_3b')\n",
    "#copy_inception_block_weights(model_old, 'InceptionV1/Mixed_3c', model_new, 'Mixed_3c')\n",
    "\n",
    "for block in [\n",
    "        'Mixed_3b', 'Mixed_3c', \n",
    "        'Mixed_4b', 'Mixed_4c', 'Mixed_4d', 'Mixed_4e', 'Mixed_4f', \n",
    "        'Mixed_5b', 'Mixed_5c', \n",
    "    ]:\n",
    "    print(\"Copying %s\" % (block,))    \n",
    "    copy_inception_block_weights(model_old, 'InceptionV1/'+block, model_new, block)\n",
    "\n",
    "print(\"Finished All\")"
   ]
  },
  {
   "cell_type": "code",
   "execution_count": null,
   "metadata": {},
   "outputs": [],
   "source": [
    "# This depends on the naming conventions...\n",
    "def copy_CNN_weight_with_bias(model_old, name_old, model_new, name_new):\n",
    "    weights0 = model_old['values'][name_old+'/weights:0']\n",
    "    weights1 = model_old['values'][name_old+'/biases:0']\n",
    "    layer = model_new.get_layer(name_new)\n",
    "    weights_all = layer.get_weights()\n",
    "    weights_all[0]=weights0\n",
    "    weights_all[1]=weights1\n",
    "    layer.set_weights(weights_all)\n",
    "\n",
    "if include_top:\n",
    "    show_old_model_expected_shapes(model_old, 'InceptionV1/Logits/Conv2d_0c_1x1/weights:0')\n",
    "    show_old_model_expected_shapes(model_old, 'InceptionV1/Logits/Conv2d_0c_1x1/biases:0')\n",
    "    show_new_model_expected_shapes(model_new, 'Logits')\n",
    "\n",
    "    print(\"Copying Logits\")\n",
    "    copy_CNN_weight_with_bias(model_old, 'InceptionV1/Logits/Conv2d_0c_1x1', model_new, 'Logits')\n",
    "print(\"Finished All\")"
   ]
  },
  {
   "cell_type": "markdown",
   "metadata": {},
   "source": [
    "### Test the intermediate values in layers on a Sample Image"
   ]
  },
  {
   "cell_type": "code",
   "execution_count": null,
   "metadata": {},
   "outputs": [],
   "source": [
    "imgs.shape"
   ]
  },
  {
   "cell_type": "code",
   "execution_count": null,
   "metadata": {},
   "outputs": [],
   "source": [
    "def check_image_outputs(model_old, name_old, model_new, name_new, images, idx):\n",
    "    images_old = model_old['check_values'][name_old]\n",
    "    print(\"OLD :\", images_old.shape, np.min(images_old), np.max(images_old) )\n",
    "    \n",
    "    # See : http://stackoverflow.com/questions/41711190/keras-how-to-get-the-output-of-each-layer\n",
    "    output_layer = model_new.get_layer(name_new)\n",
    "    get_check_value = K.function([model_new.input, K.learning_phase()], \n",
    "                                 [output_layer.output,])\n",
    "    check_value = get_check_value([images, 0])  # '0' is for 'learning_phase'\n",
    "    images_new = check_value[0]\n",
    "    print(\"NEW :\", images_new.shape, np.min(images_new), np.max(images_new) )\n",
    "    \n",
    "    total_diff = np.sum( np.abs(images_new - images_old) )\n",
    "    print(\"total_diff =\", total_diff)\n",
    "    \n",
    "    if len(images_old.shape)<4: return\n",
    "    \n",
    "    def no_axes():\n",
    "        plt.gca().xaxis.set_visible(False)    \n",
    "        plt.gca().yaxis.set_visible(False)    \n",
    "        \n",
    "    plt.figure(figsize=(9,4))\n",
    "\n",
    "    # https://matplotlib.org/examples/color/colormaps_reference.html  bwr(+/-) or Blues(0+)\n",
    "    plt.subplot2grid( (1,2), (0,0) ); no_axes()\n",
    "    plt.imshow(images_old[0, :,:,idx], cmap='Blues', vmin=0.) # , vmin=0. , vmax=1.\n",
    "    plt.subplot2grid( (1,2), (0,1) ); no_axes()\n",
    "    plt.imshow(images_new[0, :,:,idx], cmap='Blues', vmin=0.) # ,vmin=-1., vmax=1.\n",
    "\n",
    "    #plt.tight_layout()    \n",
    "    plt.show()\n",
    "\n",
    "# These should show attractive, identical images on left and right sides\n",
    "check_image_outputs(model_old, 'Conv2d_1a_7x7', model_new, 'Conv2d_1a_7x7_act', imgs, 21)\n",
    "#check_image_outputs(model_old, 'MaxPool_2a_3x3', model_new, 'MaxPool_2a_3x3', imgs, 11)\n",
    "#check_image_outputs(model_old, 'Conv2d_2b_1x1', model_new, 'Conv2d_2b_1x1_act', imgs, 5)\n",
    "#check_image_outputs(model_old, 'Conv2d_2c_3x3', model_new, 'Conv2d_2c_3x3_act', imgs, 35)\n",
    "#check_image_outputs(model_old, 'MaxPool_3a_3x3', model_new, 'MaxPool_3a_3x3', imgs, 5)\n",
    "#check_image_outputs(model_old, 'Mixed_3b', model_new, 'Mixed_3b_Concatenated', imgs, 25)\n",
    "#check_image_outputs(model_old, 'Mixed_3c', model_new, 'Mixed_3c_Concatenated', imgs, 25)\n",
    "#check_image_outputs(model_old, 'MaxPool_4a_3x3', model_new, 'MaxPool_4a_3x3', imgs, 25)\n",
    "#check_image_outputs(model_old, 'MaxPool_5a_2x2', model_new, 'MaxPool_5a_2x2', imgs, 25)\n",
    "\n",
    "if include_top:\n",
    "    # No images for these ones...\n",
    "    #check_image_outputs(model_old, 'Logits', model_new, 'Logits_flat', imgs, -1)\n",
    "    check_image_outputs(model_old, 'Predictions', model_new, 'Predictions', imgs, -1)\n"
   ]
  },
  {
   "cell_type": "markdown",
   "metadata": {},
   "source": [
    "### Save the NEW model to a file"
   ]
  },
  {
   "cell_type": "code",
   "execution_count": null,
   "metadata": {
    "collapsed": true
   },
   "outputs": [],
   "source": [
    "if include_top:\n",
    "    model_file = 'inception_v1_weights_tf_dim_ordering_tf_kernels.h5'\n",
    "else:\n",
    "    model_file = 'inception_v1_weights_tf_dim_ordering_tf_kernels_notop.h5'\n",
    "\n",
    "# This assumes that the model_weights will be loaded back into the same structure\n",
    "model_new.save_weights(model_file)"
   ]
  },
  {
   "cell_type": "code",
   "execution_count": null,
   "metadata": {
    "collapsed": true
   },
   "outputs": [],
   "source": []
  }
 ],
 "metadata": {
  "kernelspec": {
   "display_name": "Python 3",
   "language": "python",
   "name": "python3"
  },
  "language_info": {
   "codemirror_mode": {
    "name": "ipython",
    "version": 3
   },
   "file_extension": ".py",
   "mimetype": "text/x-python",
   "name": "python",
   "nbconvert_exporter": "python",
   "pygments_lexer": "ipython3",
   "version": "3.6.1"
  }
 },
 "nbformat": 4,
 "nbformat_minor": 1
}