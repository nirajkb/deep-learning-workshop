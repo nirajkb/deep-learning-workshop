{
 "cells": [
  {
   "cell_type": "markdown",
   "metadata": {},
   "source": [
    "## GPU Chooser\n",
    "\n",
    "This workbook can help rank GPUs according a mixture of features (with the weights determined by the user) and graph it against price.\n",
    "\n",
    "However, Amazon has now put a price-grabber-blocker in place, so it probably makes sense to switch to NewEgg - or a price grabbing service (that would keep their IDs consistent over time by default).\n",
    "\n",
    "\n",
    "#### Quick Fix\n",
    "If this fails when downloading the price data, make sure that you have installed Python's Beautiful Soup package (for HTML parsing) : ```pip install beautifulsoup4```.\n",
    "\n",
    "### Data\n",
    "Firstly, pull in the parameters from Wikipedia\n",
    "([NVidia cards](https://en.wikipedia.org/wiki/List_of_Nvidia_graphics_processing_units), \n",
    "[AMD cards](https://en.wikipedia.org/wiki/List_of_AMD_graphics_processing_units)) \n",
    "for the cards under consideration (more can easily be added, though, to keep the list reasonable, let's ignore cards with <1000 single precision GFLOPs), each with one example of the product on Amazon or NewEgg (more Amazon/NewEgg examples can be added below) :"
   ]
  },
  {
   "cell_type": "code",
   "execution_count": 1,
   "metadata": {},
   "outputs": [],
   "source": [
    "raw=\"\"\"\n",
    "name                  |   sh:tx:rop |   mem | bw  | bus | ocl |single|double|watts| passmark\n",
    "GeForce GT 740        |  384:32:16  |  4096 |  28 | 128 | 1.2 |  763 |   0 |  65 | 1579\n",
    "\n",
    "GeForce GTX 750       |  512:32:16  |  2048 |  80 | 128 | 1.2 | 1044 |  32 |  55 | 3271\n",
    "GeForce GTX 750 Ti    |  640:40:16  |  4096 |  80 | 128 | 1.2 | 1306 |  40 |  60 | 3695\n",
    "GeForce GTX 760       | 1152:96:32  |  4096 | 192 | 256 | 1.2 | 2257 |  94 | 170 | 4952    \n",
    "GeForce GTX 760 Ti    | 1152:96:32  |  4096 | 192 | 256 | 1.2 | 2257 |  94 | 170 | 5059    \n",
    "\n",
    "GeForce GTX 960       | 1024:64:32  |  4096 | 112 | 128 | 1.2 | 2308 |  72 | 120 | 5828\n",
    "GeForce GTX 970       | 1664:104:56 |  3584 | 196 | 224 | 1.2 | 3494 | 109 | 145 | 8573\n",
    "GeForce GTX 980       | 2048:128:64 |  4096 | 224 | 256 | 1.2 | 4612 | 144 | 165 | 9592\n",
    "GeForce GTX 980 Ti    | 2816:176:96 |  6144 | 336 | 384 | 1.2 | 5632 | 176 | 250 |11350     \n",
    "GeForce GTX Titan X   | 3072:192:96 | 12288 | 336 | 384 | 1.2 | 6144 | 192 | 250 |10669     \n",
    "\n",
    "GeForce GTX 1060 3GB  | 1152:72:48  |  3072 | 192 | 192 | 1.2 | 3470 | 108 | 120 | 8567\n",
    "GeForce GTX 1060 6GB  | 1280:80:48  |  6144 | 192 | 192 | 1.2 | 3855 | 120 | 120 | 8662\n",
    "GeForce GTX 1070      | 1920:120:64 |  8192 | 256 | 256 | 1.2 | 5783 | 181 | 150 |10906 \n",
    "GeForce GTX 1080      | 2560:160:64 |  8192 | 320 | 256 | 1.2 | 8228 | 257 | 180 |11982\n",
    "GeForce GTX 1080 Ti   | 3584:224:88 | 11264 | 484 | 352 | 1.2 |10609 | 332 | 250 |13247     \n",
    "NVIDIA TITAN Xp       | 3584:224:96 | 12288 | 480 | 384 | 1.2 |10157 | 317 | 250 |14894\n",
    "\n",
    "\"\"\"\n",
    "\n",
    "sadly_waiting_on_decent_drivers = \"\"\"\n",
    "Radeon HD 5570        |  400:20:8   |  1024 |  29 | 128 | 1.2 |  520 |   0 |  39 |  712\n",
    "Radeon R9 280         | 1792:112:32 |  3072 | 240 | 384 | 1.2 | 2964 | 741 | 250 | 5283\n",
    "Radeon R9 290 / 390   | 2560:160:64 |  4096 | 320 | 512 | 2   | 4848 | 606 | 275 | 7026\n",
    "Radeon R9 290X / 390X | 2816:176:64 |  4096 | 320 | 512 | 2   | 5632 | 704 | 290 | 7306\n",
    "\n",
    "Radeon R9 390X        | 2816:176:64 |  8192 | 384 | 512 | 2.1 | 5914 | 739 | 275 | 8431\n",
    "Radeon RX 480\n",
    "\"\"\"\n",
    "\n",
    "import re\n",
    "arr = [ re.split(r'\\s*[|:]\\s*',l) for l in raw.split('\\n') if len(l)>0]\n",
    "headings = arr[0]\n",
    "#print(headings)\n",
    "cards={ a[0]:{ h:(e if h in ':name:' else float(e)) for h,e in zip(headings,a) } for a in arr[1:] }\n",
    "# Create a place for the pricing to go (with the PassMark entry there for starters)\n",
    "for c in cards.keys(): cards[c]['pricing']={c:dict(px=None,brand='PassMark',comment='')}"
   ]
  },
  {
   "cell_type": "markdown",
   "metadata": {},
   "source": [
    "Now the GPU card data is in a nice array of dictionary entries, with numeric entries for all but 'name' which matches the corresponding entry on the GPU Passmarks benchmarks list."
   ]
  },
  {
   "cell_type": "markdown",
   "metadata": {},
   "source": [
    "### Add sku information required for gathering Price data\n",
    "Here, one can put additional Amazon product codes that refer to the same \n",
    "card from a Compute perspective (different manufacturer and/or different ports may make the \n",
    "cards different from a gaming user's perspective, of course).\n",
    "\n",
    "**TODO : Add in more prices, to get a broader sample**"
   ]
  },
  {
   "cell_type": "code",
   "execution_count": 2,
   "metadata": {
    "collapsed": true
   },
   "outputs": [],
   "source": [
    "#pricing={ a['sku']:{k:v for k,v in a.items() if k in 'name:brand:comment:sku:pm'} for a in cards}\n",
    "#for c in cards:print(\"%s|%s\" % (c['name'], c['amz']))"
   ]
  },
  {
   "cell_type": "code",
   "execution_count": 3,
   "metadata": {},
   "outputs": [],
   "source": [
    "raw=\"\"\"\n",
    "name                  |sku:brand:comment   \n",
    "GeForce GT 740        | B00KJGYOBQ\n",
    "GeForce GTX 750       | B00J3ZNB04\n",
    "GeForce GTX 750 Ti    | B00T4RJ8FI\n",
    "GeForce GTX 760       | B00E9O28DU\n",
    "GeForce GTX 960       | B00UOYQ5LA\n",
    "GeForce GTX 970       | B00NVODXR4\n",
    "GeForce GTX 970       | B00NH5ZNWA:PNY\n",
    "GeForce GTX 970       | B00OQUMGM0:GigabyteMiniITX\n",
    "GeForce GTX 980       | B00NT9UT3M\n",
    "GeForce GTX 980 Ti    | B00YNEIAWY\n",
    "GeForce GTX 980 Ti    | B00YDAYOK0:EVGA\n",
    "GeForce GTX Titan X   | B00UXTN5P0\n",
    "GeForce GTX 1060 3GB  | B01KUADE3O\n",
    "GeForce GTX 1060 6GB  | B01IPVSGEC\n",
    "GeForce GTX 1070      | B01GLRX81I\n",
    "GeForce GTX 1080      | B01IR6LMLO\n",
    "GeForce GTX 1080 Ti   | B06XH2P8DD\n",
    "NVIDIA TITAN Xp       | B01JLKP3IS\n",
    "\"\"\"\n",
    "\n",
    "sadly_waiting_for_decent_drivers = \"\"\"\n",
    "HD 5570 1Gb           | B004JU260O\n",
    "R9 280                | B00IZXOW80\n",
    "R9 290                | B00V4JVY1A\n",
    "R9 290X               | B00FLMKQY2\n",
    "R9 380 2Gb            | B00ZGL8EBK\n",
    "R9 380 4Gb            | B00ZGF3TUC\n",
    "R9 390 8Gb            | B00ZGL8CYY\n",
    "R9 390 8Gb            | B00ZGF0UAE:MSI\n",
    "R9 390 8Gb            | B00ZGF3UAQ:Gigabyte\n",
    "R9 390 8Gb            | B00ZGL8CYY:Sapphire\n",
    "R9 390 8Gb            | B00ZQ3QVU4:Asus\n",
    "R9 390 8Gb            | B00ZQ9JKSS:Visiontech\n",
    "R9 390X               | B00ZGL8CFI\n",
    "R9 390X               | B00ZGF158A:MSI\n",
    "R9 390X               | B00ZGF3TNO:Gigabyte\n",
    "R9 390X               | B00ZGL8CFI:Sapphire\n",
    "\"\"\"\n",
    "arr = [ re.split(r'\\s*[|:]\\s*',l) for l in raw.split('\\n') if len(l)>0]\n",
    "headings = arr[0]\n",
    "for a in arr[1:]:\n",
    "    data={ h:e for h,e in zip(headings,a) }\n",
    "    if a[0] in cards:\n",
    "        cards[a[0]]['pricing'][data['sku']]=data\n",
    "    else:\n",
    "        print(\"Card named '%s' not found in core listing\" % (a[0],))\n",
    "#pricing.update({ a['sku']:a for a in equivs if a['sku'] })\n",
    "#pricing"
   ]
  },
  {
   "cell_type": "markdown",
   "metadata": {},
   "source": [
    "### Add known prices from Cache\n",
    "If you want to regenerate these, execute the block below.  To 'cache' them back into this script, \n",
    "simply copy the generated list back into the following cell"
   ]
  },
  {
   "cell_type": "code",
   "execution_count": 4,
   "metadata": {},
   "outputs": [],
   "source": [
    "cache={'B00UXTN5P0': 737.00, 'B00IDG3NDY': 114.12, 'B00DT5R3EO': 199.99, 'B004JU260O': 180.99, 'B00ZGL8EBK': 216.53, 'B01IPVSGEC': 230.39, 'B00ZGF158A': 429.99, 'B00NVODXR4': 337.99, 'B00UOYQ5LA': 239.99, 'B00ZQ3QVU4': 349.99, 'B00KJGYOBQ': 99.99, 'B01JLKP3IS': 1499.99, 'B00YNEIAWY': 698.85, 'B00OQUMGM0': 299.99, 'B06XH2P8DD': 699.99, 'B00IDG3IDO': 139.99, 'B00ZGF3UAQ': 329.99, 'B00J3ZNB04': 149.37, 'B00FLMKQY2': 339.99, 'B01KUADE3O': 189.99, 'B00SC6HAS4': 199.99, 'B00ZGF3TUC': 229.99, 'B00ZGF0UAE': 369.99, 'B00ZGL8CFI': 458.63, 'B01IR6LMLO': 469.99, 'B00T4RJ8FI': 349.99, 'B00ZQ9JKSS': 368.63, 'B00ZGL8CYY': 359.42, 'B00V4JVY1A': 333.26, 'B00IZXOW80': 249.99, 'B00YDAYOK0': 679.99, 'B00E9O28DU': 274.99, 'B00NT9UT3M': 507.82, 'B00ZGF3TNO': 499.99}\n",
    "cache.update(\n",
    "    {'B00ZQ3QVU4': 349.99, 'B01JLKP3IS': 1499.99, 'B01GX5YWAO': 399.99, 'B00DT5R3EO': 199.99, 'B00UOYQ5LA': 239.99, 'B01KUADE3O': 189.99, 'B00V4JVY1A': 333.26, 'B00FLMKQY2': 366.08, 'B00J3ZNB04': 149.37, 'B00ZGF3UAQ': 361.79, 'B00IDG3IDO': 139.99, 'B06XH2P8DD': 699.99, 'B00KJGYOBQ': 99.99, 'B004JU260O': 159.99, 'B01IPVSGEC': 230.39, 'B00IDG3NDY': 114.12, 'B00YNEIAWY': 698.85, 'B00SC6HAS4': 199.99, 'B01IR6LMLO': 469.99, 'B00T4RJ8FI': 349.99, 'B00ZGF0UAE': 399.99, 'B00OQUMGM0': 329.0, 'B00YDAYOK0': 679.99, 'B00ZGL8EBK': 216.53, 'B00ZGL8CYY': 359.42, 'B00NT9UT3M': 507.82, 'B00ZGF158A': 429.99, 'B00IZXOW80': 249.99, 'B00ZQ9JKSS': 368.63, 'B01GLRX81I': 379.89, 'B00NVODXR4': 337.99, 'B00UXTN5P0': 737.0, 'B00ZGF3TUC': 229.99, 'B00NH5ZNWA': 329.99, 'B00ZGL8CFI': 458.63, 'B00E9O28DU': 274.99, 'B00ZGF3TNO': 499.99}\n",
    ")\n",
    "#for k,v in cache.items():\n",
    "#    #if k in pricing and pricing[k].get('px',None) is None:\n",
    "#    if k in pricing and (pricing[k].get('px',None) is None or pricing[k]['px']<v):\n",
    "#        pricing[k]['px'] = v\n",
    "for name,card_data in cards.items():\n",
    "    for sku,sku_data in card_data['pricing'].items():\n",
    "        if sku in cache:\n",
    "            v = cache[sku]\n",
    "            if sku_data.get('px',None) is None or sku_data['px']<v:\n",
    "                sku_data['px'] = v\n",
    "#pricing"
   ]
  },
  {
   "cell_type": "markdown",
   "metadata": {},
   "source": [
    "## Price Grabbing\n",
    "\n",
    "The price downloading/parsing requires that you have ``requests`` and ``BeautifulSoup`` installed : ``pip install requests BeautifulSoup4``\n"
   ]
  },
  {
   "cell_type": "code",
   "execution_count": null,
   "metadata": {
    "collapsed": true
   },
   "outputs": [],
   "source": [
    "import requests\n",
    "from bs4 import BeautifulSoup\n",
    "import re"
   ]
  },
  {
   "cell_type": "markdown",
   "metadata": {},
   "source": [
    "### Grab prices from Amazon\n",
    "\n",
    "Rather than use their API (which creates the issue of putting the keys into GitHub), just grab the pages.  NB: The page caches the prices found into the data structure to avoid doing this too often!\n",
    "\n",
    "#### EXCEPT : Sometimes this just brings back a 'discuss API pricing' page.  Bummer"
   ]
  },
  {
   "cell_type": "code",
   "execution_count": null,
   "metadata": {},
   "outputs": [],
   "source": [
    "BASE_URL = \"http://www.amazon.com/exec/obidos/ASIN/\"\n",
    "\n",
    "for name,card_data in cards.items():\n",
    "    for sku,sku_data in card_data['pricing'].items():\n",
    "        if not sku.startswith('B0'): continue  # Skip non-Amazon SKUs\n",
    "        if sku_data.get('px', None) is None:\n",
    "        #if True:\n",
    "            print(\"Fetching price '%s' for %s from Amazon.com\" % (sku, name))\n",
    "            r = requests.get(BASE_URL + sku)\n",
    "            print(\"  Got %d bytes\" % (len(r.text),))\n",
    "            soup = BeautifulSoup(r.text, 'html.parser')\n",
    "            price = None\n",
    "            try:\n",
    "                ele = soup.find(id=\"priceblock_ourprice\")\n",
    "                price = float(ele.text.replace('$','').replace(',',''))\n",
    "            except AttributeError:\n",
    "                print(\"    Didn't find the 'price' element for %s (%s)\" % (name, sku))\n",
    "            sku_data['px']=price\n",
    "\n",
    "print(\"Finished downloading Amazon prices : Run the 'cache' script below to save the data\")"
   ]
  },
  {
   "cell_type": "code",
   "execution_count": null,
   "metadata": {},
   "outputs": [],
   "source": [
    "#r.text"
   ]
  },
  {
   "cell_type": "markdown",
   "metadata": {},
   "source": [
    "#### Grab from Passmark GPU benchmarks"
   ]
  },
  {
   "cell_type": "code",
   "execution_count": null,
   "metadata": {},
   "outputs": [],
   "source": [
    "BASE_URL = \"http://www.videocardbenchmark.net/gpu_list.php\"\n",
    "headers = { 'User-Agent': 'Mozilla/5.0 (X11; Fedora; Linux x86_64; rv:53.0) Gecko/20100101 Firefox/53.0', }\n",
    "r = requests.get(BASE_URL, headers=headers )\n",
    "print(\"  Got %d bytes\" % (len(r.text),))\n",
    "#r.text"
   ]
  },
  {
   "cell_type": "code",
   "execution_count": null,
   "metadata": {},
   "outputs": [],
   "source": [
    "soup = BeautifulSoup(r.text, 'html.parser')\n",
    "\n",
    "try:\n",
    "    trs = soup.find(id='cputable').find_all('tr', id=True)\n",
    "    print(\"Found %d cards\" % (len(trs),))\n",
    "    for tr in trs:\n",
    "        tds = tr.find_all('td')\n",
    "        card = tds[0].a.text\n",
    "        if card in cards:\n",
    "            px_str = tds[-1].text\n",
    "            try:\n",
    "                px = float( re.sub(r'[\\$\\*\\,]', '', px_str))\n",
    "                cards[card]['pricing'][card]['px'] = px\n",
    "                print(\"%s\\t%10s\\t%.2f\" % ((card+' '*20)[:20], px_str, px))\n",
    "            except ValueError:\n",
    "                print(\"    Couldn't parse the 'price' element for %s (%s)\" % (card, px_str))\n",
    "except AttributeError:\n",
    "    print(\"    Didn't find the 'pricing table' element\")\n"
   ]
  },
  {
   "cell_type": "code",
   "execution_count": null,
   "metadata": {
    "collapsed": true
   },
   "outputs": [],
   "source": []
  },
  {
   "cell_type": "markdown",
   "metadata": {},
   "source": [
    "### Code required to 'cache' prices found\n",
    "Exectute the following, and copy its output to the ```pxs=``` line above so that the page \n",
    "can remember the prices found most recently."
   ]
  },
  {
   "cell_type": "code",
   "execution_count": null,
   "metadata": {},
   "outputs": [],
   "source": [
    "# TODO print({ k:v['px'] for k,v in pricing.items() if v.get('px',None) is not None})"
   ]
  },
  {
   "cell_type": "markdown",
   "metadata": {},
   "source": [
    "### Aggregate Prices (to determine range, and minimum per card)"
   ]
  },
  {
   "cell_type": "code",
   "execution_count": 5,
   "metadata": {},
   "outputs": [],
   "source": [
    "for name, data in cards.items():\n",
    "    pxs = [ sku_data['px'] for sku,sku_data in data['pricing'].items() if sku_data.get('px', None) is not None ]\n",
    "    if len(pxs)>0:\n",
    "        data['px_min']=min(pxs)\n",
    "        data['px_max']=max(pxs)"
   ]
  },
  {
   "cell_type": "markdown",
   "metadata": {},
   "source": [
    "### Show Known Prices"
   ]
  },
  {
   "cell_type": "code",
   "execution_count": 6,
   "metadata": {},
   "outputs": [],
   "source": [
    "for name, data in sorted(cards.items()):\n",
    "    for sku, sku_data in data['pricing'].items():\n",
    "        if sku_data.get('px', None) is not None:\n",
    "            print(\"%s| $%7.2f\" % ((name+' '*30)[:24], sku_data['px']))"
   ]
  },
  {
   "cell_type": "markdown",
   "metadata": {},
   "source": [
    "## Weights for Different Card Features\n",
    "\n",
    "The concept here is that one can focus on a 'basecard' (for instance, one you already have, or one you've looked at closely), and then assign multiplicative weights to each of a GPU card's qualities, and come up with a 'relative performance' according to that weighting scheme.  "
   ]
  },
  {
   "cell_type": "code",
   "execution_count": 14,
   "metadata": {},
   "outputs": [],
   "source": [
    "# FLOPs are twice as important as memory, all else ignored\n",
    "multipliers = dict(single=2., mem=1.)  \n",
    "\n",
    "# ignore cards with OpenCL>3 (none), or prices above 1500\n",
    "card_names_filtered = [name for name,data in cards.items() if data['ocl']<3. and data.get('px_min',1000000)<1000. ]"
   ]
  },
  {
   "cell_type": "markdown",
   "metadata": {},
   "source": [
    "### Score Cards based on given weights\n"
   ]
  },
  {
   "cell_type": "code",
   "execution_count": 15,
   "metadata": {},
   "outputs": [],
   "source": [
    "basecard = 'GeForce GTX 980' # Name should match a card with full data above\n",
    "basedata = [ data for name, data in cards.items() if name==basecard ][0]  \n",
    "\n",
    "def evaluate_card(base, data, mult):\n",
    "    comp=0.\n",
    "    for (k,v) in mult.items():\n",
    "        if data.get(k,None) is not None and base.get(k,None) is not None:\n",
    "            comp += v*data[k]/base[k]\n",
    "    return comp\n",
    "x=[ cards[name].get('px_min',None) for name in card_names_filtered ]\n",
    "y=[ evaluate_card(basedata, cards[name], multipliers) for name in card_names_filtered ]\n",
    "l=[ name for name in card_names_filtered ]\n",
    "for name,score,px in sorted(zip(l,y,x), key=lambda p: -p[1]):\n",
    "    print(\"%s| $%7.2f | %5.2f\" % ((name+' '*30)[:24], px, score))"
   ]
  },
  {
   "cell_type": "markdown",
   "metadata": {},
   "source": [
    "### Visualize the Results\n",
    "\n",
    "Finally, the card scores can be visualised, against their absolute dollar \n",
    "cost (the 'efficient frontier' being the envelope around the points from the upper left corner)."
   ]
  },
  {
   "cell_type": "code",
   "execution_count": 16,
   "metadata": {},
   "outputs": [],
   "source": [
    "%matplotlib inline\n",
    "import matplotlib.pyplot as plt\n",
    "import numpy as np\n",
    "\n",
    "plt.figure(figsize=(15, 8))\n",
    "plt.plot(x,y, 'ro')\n",
    "plt.xlabel('Price', fontsize=16)\n",
    "plt.ylabel('Score', fontsize=16)\n",
    "#print( dir( plt.axes().get_xlim ))\n",
    "for i, xy in enumerate(zip(x, y)): \n",
    "    plt.annotate('%s' % (l[i]), xy=xy, xytext=(5,.05), textcoords='offset points')\n",
    "    start, stop = plt.axes().get_xlim()\n",
    "    #plt.axes().set_xticks(np.arange(start, stop + 100., 100.))  # Force $100 units on x-axis \n",
    "    plt.axes().set_xticks(np.arange(0, 1000., 100.))  # Force $100 units on x-axis \n",
    "    plt.axes().set_yticks(np.arange(0, 8., 0.5))  # Force $100 units on x-axis \n",
    "    plt.grid(b=True, which='major', color='b', axis='x', linestyle='-')\n",
    "    plt.grid(b=True, which='major', color='b', axis='y', linestyle='--')\n",
    "plt.show()"
   ]
  },
  {
   "cell_type": "code",
   "execution_count": null,
   "metadata": {
    "collapsed": true
   },
   "outputs": [],
   "source": []
  }
 ],
 "metadata": {
  "kernelspec": {
   "display_name": "Python 3",
   "language": "python",
   "name": "python3"
  },
  "language_info": {
   "codemirror_mode": {
    "name": "ipython",
    "version": 3
   },
   "file_extension": ".py",
   "mimetype": "text/x-python",
   "name": "python",
   "nbconvert_exporter": "python",
   "pygments_lexer": "ipython3",
   "version": "3.6.1"
  }
 },
 "nbformat": 4,
 "nbformat_minor": 1
}