{
 "cells": [
  {
   "cell_type": "markdown",
   "metadata": {},
   "source": [
    "## Test the Numerical Libraries being Used"
   ]
  },
  {
   "cell_type": "code",
   "execution_count": null,
   "metadata": {
    "collapsed": false
   },
   "outputs": [],
   "source": [
    "import os\n",
    "\n",
    "import numpy as np\n",
    "\n",
    "import theano\n",
    "import theano.tensor as T\n",
    "\n",
    "import time\n",
    "\n",
    "def show_config():\n",
    "    print(\"OMP_NUM_THREADS                       = %s\" % \n",
    "           os.environ.get('OMP_NUM_THREADS','#CAREFUL : OMP_NUM_THREADS Not-defined!'))\n",
    "\n",
    "    print(\"theano.config.device                  = %s\" % theano.config.device)\n",
    "    print(\"theano.config.floatX                  = %s\" % theano.config.floatX)\n",
    "    print(\"theano.config.blas.ldflags            = '%s'\" % theano.config.blas.ldflags)\n",
    "    print(\"theano.config.openmp                  = %s\" % theano.config.openmp)\n",
    "    print(\"theano.config.openmp_elemwise_minsize = %d\" % theano.config.openmp_elemwise_minsize)\n",
    "\n",
    "    # IDEA for pretty-printing : http://stackoverflow.com/questions/32026727/format-output-of-code-cell-with-markdown\n",
    "\n",
    "def show_timing(iters=8, order='C'):\n",
    "    M, N, K = 2000, 2000, 2000\n",
    "    \n",
    "    a = theano.shared(np.ones((M, N), dtype=theano.config.floatX, order=order))\n",
    "    b = theano.shared(np.ones((N, K), dtype=theano.config.floatX, order=order))\n",
    "    c = theano.shared(np.ones((M, K), dtype=theano.config.floatX, order=order))\n",
    "    \n",
    "    f = theano.function([], updates=[(c, 0.4 * c + 0.8 * T.dot(a, b))])\n",
    "    \n",
    "    if any([x.op.__class__.__name__ == 'Gemm' for x in f.maker.fgraph.toposort()]):\n",
    "        c_impl = [hasattr(thunk, 'cthunk')\n",
    "                  for node, thunk in zip(f.fn.nodes, f.fn.thunks)\n",
    "                  if node.op.__class__.__name__ == \"Gemm\"]\n",
    "        assert len(c_impl) == 1\n",
    "        \n",
    "        if c_impl[0]:\n",
    "            impl = 'CPU (with direct Theano binding to blas)'\n",
    "        else:\n",
    "            impl = 'CPU (no direct Theano binding to blas, using numpy/scipy)'\n",
    "            \n",
    "    elif any([x.op.__class__.__name__ == 'GpuGemm' for x in\n",
    "              f.maker.fgraph.toposort()]):\n",
    "        impl = 'GPU'\n",
    "        \n",
    "    else:\n",
    "        impl = 'ERROR, unable to tell if Theano used the cpu or the gpu:\\n'\n",
    "        impl += str(f.maker.fgraph.toposort())\n",
    "    \n",
    "    print(\"\\nRunning operations using              : %s\" % impl)\n",
    "    \n",
    "    t0 = time.time()\n",
    "    for i in range(iters):\n",
    "        f()\n",
    "    if False:\n",
    "        theano.sandbox.cuda.synchronize()\n",
    "        \n",
    "    print(\"Time taken for each of %2d iterations  : %.0f msec\" % (iters, 1000.*(time.time()-t0)/iters))\n"
   ]
  },
  {
   "cell_type": "markdown",
   "metadata": {},
   "source": [
    "Now show the existing configuration and time an operation"
   ]
  },
  {
   "cell_type": "code",
   "execution_count": null,
   "metadata": {
    "collapsed": false
   },
   "outputs": [],
   "source": [
    "show_config()\n",
    "show_timing()"
   ]
  },
  {
   "cell_type": "code",
   "execution_count": null,
   "metadata": {
    "collapsed": false
   },
   "outputs": [],
   "source": [
    "#os.environ['OMP_NUM_THREADS']=\"1\"\n",
    "#os.environ['OMP_NUM_THREADS']=\"4\"\n",
    "#theano.config.floatX = 'float64'\n",
    "theano.config.floatX = 'float32'\n",
    "theano.config.openmp = False\n",
    "#theano.config.openmp = True\n",
    "#theano.config.blas.ldflags = ''\n",
    "#theano.config.blas.ldflags = '-L/lib64/atlas -lsatlas'\n",
    "theano.config.blas.ldflags = '-L/lib64/atlas -ltatlas'\n",
    "\n",
    "show_config()\n",
    "show_timing()"
   ]
  },
  {
   "cell_type": "code",
   "execution_count": null,
   "metadata": {
    "collapsed": true
   },
   "outputs": [],
   "source": []
  }
 ],
 "metadata": {
  "kernelspec": {
   "display_name": "Python 3",
   "language": "python",
   "name": "python3"
  },
  "language_info": {
   "codemirror_mode": {
    "name": "ipython",
    "version": 3
   },
   "file_extension": ".py",
   "mimetype": "text/x-python",
   "name": "python",
   "nbconvert_exporter": "python",
   "pygments_lexer": "ipython3",
   "version": "3.5.2"
  }
 },
 "nbformat": 4,
 "nbformat_minor": 0
}