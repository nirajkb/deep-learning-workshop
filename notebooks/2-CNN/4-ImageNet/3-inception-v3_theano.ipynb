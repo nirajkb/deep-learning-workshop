{
 "cells": [
  {
   "cell_type": "markdown",
   "metadata": {},
   "source": [
    "# Modern Network :: Pre-Trained for ImageNet \n",
    "This example demonstrates using a network pretrained on ImageNet for classification.  This image recognition task involved recognising 1000 different classes.  \n",
    "\n",
    "### The Model 'inception v3'\n",
    "This model was created by Google, and detailed in [\"Rethinking the Inception Architecture for Computer Vision\"](http://arxiv.org/abs/1512.00567), and was state-of-the-art until Dec-2015.  \n",
    "\n",
    "The model parameter file is licensed Apache 2.0, and has already been downloaded into the ./data/inception_v3 directory.  The parameter file is ~80Mb of data.  And that's considered *small* for this type of model.\n"
   ]
  },
  {
   "cell_type": "code",
   "execution_count": null,
   "metadata": {
    "collapsed": false
   },
   "outputs": [],
   "source": [
    "import lasagne\n",
    "\n",
    "from lasagne.layers import InputLayer\n",
    "from lasagne.layers import Conv2DLayer, Pool2DLayer\n",
    "from lasagne.layers import DenseLayer\n",
    "from lasagne.layers import GlobalPoolLayer\n",
    "from lasagne.layers import ConcatLayer\n",
    "from lasagne.layers.normalization import batch_norm\n",
    "\n",
    "import numpy as np\n",
    "\n",
    "import matplotlib.pyplot as plt\n",
    "%matplotlib inline"
   ]
  },
  {
   "cell_type": "code",
   "execution_count": null,
   "metadata": {
    "collapsed": false
   },
   "outputs": [],
   "source": [
    "def bn_conv(input_layer, **kwargs):\n",
    "  l = Conv2DLayer(input_layer, **kwargs)\n",
    "  l = batch_norm(l, epsilon=0.001)\n",
    "  return l\n",
    "\n",
    "def inceptionA(input_layer, nfilt):\n",
    "  # Corresponds to a modified version of figure 5 in the paper\n",
    "  l1 = bn_conv(input_layer, num_filters=nfilt[0][0], filter_size=1)\n",
    "\n",
    "  l2 = bn_conv(input_layer, num_filters=nfilt[1][0], filter_size=1)\n",
    "  l2 = bn_conv(l2, num_filters=nfilt[1][1], filter_size=5, pad=2)\n",
    "\n",
    "  l3 = bn_conv(input_layer, num_filters=nfilt[2][0], filter_size=1)\n",
    "  l3 = bn_conv(l3, num_filters=nfilt[2][1], filter_size=3, pad=1)\n",
    "  l3 = bn_conv(l3, num_filters=nfilt[2][2], filter_size=3, pad=1)\n",
    "\n",
    "  l4 = Pool2DLayer(input_layer, pool_size=3, stride=1, pad=1, mode='average_exc_pad')\n",
    "  l4 = bn_conv(l4, num_filters=nfilt[3][0], filter_size=1)\n",
    "\n",
    "  return ConcatLayer([l1, l2, l3, l4])\n",
    "\n",
    "def inceptionB(input_layer, nfilt):\n",
    "    # Corresponds to a modified version of figure 10 in the paper\n",
    "    l1 = bn_conv(input_layer, num_filters=nfilt[0][0], filter_size=3, stride=2)\n",
    "\n",
    "    l2 = bn_conv(input_layer, num_filters=nfilt[1][0], filter_size=1)\n",
    "    l2 = bn_conv(l2, num_filters=nfilt[1][1], filter_size=3, pad=1)\n",
    "    l2 = bn_conv(l2, num_filters=nfilt[1][2], filter_size=3, stride=2)\n",
    "\n",
    "    l3 = Pool2DLayer(input_layer, pool_size=3, stride=2)\n",
    "\n",
    "    return ConcatLayer([l1, l2, l3])\n",
    "\n",
    "\n",
    "def inceptionC(input_layer, nfilt):\n",
    "    # Corresponds to figure 6 in the paper\n",
    "    l1 = bn_conv(input_layer, num_filters=nfilt[0][0], filter_size=1)\n",
    "\n",
    "    l2 = bn_conv(input_layer, num_filters=nfilt[1][0], filter_size=1)\n",
    "    l2 = bn_conv(l2, num_filters=nfilt[1][1], filter_size=(1, 7), pad=(0, 3))\n",
    "    l2 = bn_conv(l2, num_filters=nfilt[1][2], filter_size=(7, 1), pad=(3, 0))\n",
    "\n",
    "    l3 = bn_conv(input_layer, num_filters=nfilt[2][0], filter_size=1)\n",
    "    l3 = bn_conv(l3, num_filters=nfilt[2][1], filter_size=(7, 1), pad=(3, 0))\n",
    "    l3 = bn_conv(l3, num_filters=nfilt[2][2], filter_size=(1, 7), pad=(0, 3))\n",
    "    l3 = bn_conv(l3, num_filters=nfilt[2][3], filter_size=(7, 1), pad=(3, 0))\n",
    "    l3 = bn_conv(l3, num_filters=nfilt[2][4], filter_size=(1, 7), pad=(0, 3))\n",
    "\n",
    "    l4 = Pool2DLayer(input_layer, pool_size=3, stride=1, pad=1, mode='average_exc_pad')\n",
    "    l4 = bn_conv(l4, num_filters=nfilt[3][0], filter_size=1)\n",
    "\n",
    "    return ConcatLayer([l1, l2, l3, l4])\n",
    "\n",
    "\n",
    "def inceptionD(input_layer, nfilt):\n",
    "    # Corresponds to a modified version of figure 10 in the paper\n",
    "    l1 = bn_conv(input_layer, num_filters=nfilt[0][0], filter_size=1)\n",
    "    l1 = bn_conv(l1, num_filters=nfilt[0][1], filter_size=3, stride=2)\n",
    "\n",
    "    l2 = bn_conv(input_layer, num_filters=nfilt[1][0], filter_size=1)\n",
    "    l2 = bn_conv(l2, num_filters=nfilt[1][1], filter_size=(1, 7), pad=(0, 3))\n",
    "    l2 = bn_conv(l2, num_filters=nfilt[1][2], filter_size=(7, 1), pad=(3, 0))\n",
    "    l2 = bn_conv(l2, num_filters=nfilt[1][3], filter_size=3, stride=2)\n",
    "\n",
    "    l3 = Pool2DLayer(input_layer, pool_size=3, stride=2)\n",
    "\n",
    "    return ConcatLayer([l1, l2, l3])\n",
    "\n",
    "\n",
    "def inceptionE(input_layer, nfilt, pool_mode):\n",
    "    # Corresponds to figure 7 in the paper\n",
    "    l1 = bn_conv(input_layer, num_filters=nfilt[0][0], filter_size=1)\n",
    "\n",
    "    l2 = bn_conv(input_layer, num_filters=nfilt[1][0], filter_size=1)\n",
    "    l2a = bn_conv(l2, num_filters=nfilt[1][1], filter_size=(1, 3), pad=(0, 1))\n",
    "    l2b = bn_conv(l2, num_filters=nfilt[1][2], filter_size=(3, 1), pad=(1, 0))\n",
    "\n",
    "    l3 = bn_conv(input_layer, num_filters=nfilt[2][0], filter_size=1)\n",
    "    l3 = bn_conv(l3, num_filters=nfilt[2][1], filter_size=3, pad=1)\n",
    "    l3a = bn_conv(l3, num_filters=nfilt[2][2], filter_size=(1, 3), pad=(0, 1))\n",
    "    l3b = bn_conv(l3, num_filters=nfilt[2][3], filter_size=(3, 1), pad=(1, 0))\n",
    "\n",
    "    l4 = Pool2DLayer(input_layer, pool_size=3, stride=1, pad=1, mode=pool_mode)\n",
    "\n",
    "    l4 = bn_conv(l4, num_filters=nfilt[3][0], filter_size=1)\n",
    "\n",
    "    return ConcatLayer([l1, l2a, l2b, l3a, l3b, l4])\n",
    "\n",
    "\n",
    "def build_network():\n",
    "  net = {}\n",
    "\n",
    "  net['input'] = InputLayer((None, 3, 299, 299))\n",
    "  net['conv']   = bn_conv(net['input'],    num_filters=32, filter_size=3, stride=2)\n",
    "  net['conv_1'] = bn_conv(net['conv'],   num_filters=32, filter_size=3)\n",
    "  net['conv_2'] = bn_conv(net['conv_1'], num_filters=64, filter_size=3, pad=1)\n",
    "  net['pool']   = Pool2DLayer(net['conv_2'],   pool_size=3, stride=2, mode='max')\n",
    "\n",
    "  net['conv_3'] = bn_conv(net['pool'],   num_filters=80, filter_size=1)\n",
    "\n",
    "  net['conv_4'] = bn_conv(net['conv_3'], num_filters=192, filter_size=3)\n",
    "\n",
    "  net['pool_1'] = Pool2DLayer(net['conv_4'], pool_size=3, stride=2, mode='max')\n",
    "  \n",
    "  net['mixed/join'] = inceptionA(\n",
    "      net['pool_1'], nfilt=((64,), (48, 64), (64, 96, 96), (32,)))\n",
    "  net['mixed_1/join'] = inceptionA(\n",
    "      net['mixed/join'], nfilt=((64,), (48, 64), (64, 96, 96), (64,)))\n",
    "\n",
    "  net['mixed_2/join'] = inceptionA(\n",
    "      net['mixed_1/join'], nfilt=((64,), (48, 64), (64, 96, 96), (64,)))\n",
    "\n",
    "  net['mixed_3/join'] = inceptionB(\n",
    "      net['mixed_2/join'], nfilt=((384,), (64, 96, 96)))\n",
    "\n",
    "  net['mixed_4/join'] = inceptionC(\n",
    "      net['mixed_3/join'],\n",
    "      nfilt=((192,), (128, 128, 192), (128, 128, 128, 128, 192), (192,)))\n",
    "\n",
    "  net['mixed_5/join'] = inceptionC(\n",
    "      net['mixed_4/join'],\n",
    "      nfilt=((192,), (160, 160, 192), (160, 160, 160, 160, 192), (192,)))\n",
    "\n",
    "  net['mixed_6/join'] = inceptionC(\n",
    "      net['mixed_5/join'],\n",
    "      nfilt=((192,), (160, 160, 192), (160, 160, 160, 160, 192), (192,)))\n",
    "\n",
    "  net['mixed_7/join'] = inceptionC(\n",
    "      net['mixed_6/join'],\n",
    "      nfilt=((192,), (192, 192, 192), (192, 192, 192, 192, 192), (192,)))\n",
    "\n",
    "  net['mixed_8/join'] = inceptionD(\n",
    "      net['mixed_7/join'],\n",
    "      nfilt=((192, 320), (192, 192, 192, 192)))\n",
    "\n",
    "  net['mixed_9/join'] = inceptionE(\n",
    "      net['mixed_8/join'],\n",
    "      nfilt=((320,), (384, 384, 384), (448, 384, 384, 384), (192,)),\n",
    "      pool_mode='average_exc_pad')\n",
    "\n",
    "  net['mixed_10/join'] = inceptionE(\n",
    "      net['mixed_9/join'],\n",
    "      nfilt=((320,), (384, 384, 384), (448, 384, 384, 384), (192,)),\n",
    "      pool_mode='max')\n",
    "\n",
    "  net['pool3'] = GlobalPoolLayer(net['mixed_10/join'])\n",
    "\n",
    "  net['softmax'] = DenseLayer(net['pool3'], num_units=1008, nonlinearity=lasagne.nonlinearities.softmax)\n",
    "\n",
    "  return net"
   ]
  },
  {
   "cell_type": "markdown",
   "metadata": {},
   "source": [
    "### Load the model parameters and metadata\u00b6"
   ]
  },
  {
   "cell_type": "code",
   "execution_count": null,
   "metadata": {
    "collapsed": false
   },
   "outputs": [],
   "source": [
    "net = build_network()\n",
    "output_layer = net['softmax']\n",
    "print(\"Defined Inception3 model\")"
   ]
  },
  {
   "cell_type": "code",
   "execution_count": null,
   "metadata": {
    "collapsed": false
   },
   "outputs": [],
   "source": [
    "import pickle\n",
    "params = pickle.load(open('./data/inception3/inception_v3.pkl', 'rb'), encoding='iso-8859-1')\n",
    "#print(\"Saved model params.keys = \", params.keys())\n",
    "#print(\"  License : \"+params['LICENSE'])   # Apache 2.0\n",
    "classes = params['synset words']\n",
    "lasagne.layers.set_all_param_values(output_layer, params['param values'])\n",
    "print(\"Loaded Model\")\n",
    "\n",
    "from model import inception_v3  # This is for image preprocessing functions"
   ]
  },
  {
   "cell_type": "markdown",
   "metadata": {},
   "source": [
    "## Trying it out\n",
    "### On pre-downloaded images"
   ]
  },
  {
   "cell_type": "markdown",
   "metadata": {},
   "source": [
    "NB: If this is running on a single CPU core (likely in a VM), expect each image to take ~ 15 seconds (!)\n",
    "\n",
    "NB: So, since there are 4 images, that means expect a **full 1 minute delay** ..."
   ]
  },
  {
   "cell_type": "code",
   "execution_count": null,
   "metadata": {
    "collapsed": false
   },
   "outputs": [],
   "source": [
    "image_files = [\n",
    "    './images/grumpy-cat_224x224.jpg',\n",
    "    './images/sad-owl_224x224.jpg',\n",
    "    './images/cat-with-tongue_224x224.jpg',\n",
    "    './images/doge-wiki_224x224.jpg',\n",
    "]\n",
    "\n",
    "import time\n",
    "t0 = time.time()\n",
    "for i, f in enumerate(image_files):\n",
    "    #print(\"Image File:%s\" % (f,))\n",
    "    im = inception_v3.imagefile_to_np(f)\n",
    "    \n",
    "    prob = np.array( lasagne.layers.get_output(output_layer, inception_v3.preprocess(im), deterministic=True).eval() )\n",
    "    top5 = np.argsort(prob[0])[-1:-6:-1]    \n",
    "\n",
    "    plt.figure()\n",
    "    plt.imshow(im.astype('uint8'))\n",
    "    plt.axis('off')\n",
    "    for n, label in enumerate(top5):\n",
    "        plt.text(350, 50 + n * 25, '{}. {}'.format(n+1, classes[label]), fontsize=14)\n",
    "print(\"DONE : %6.2f seconds each\" %(float(time.time() - t0)/len(image_files),))"
   ]
  },
  {
   "cell_type": "markdown",
   "metadata": {},
   "source": [
    "### On some test images from the web\n",
    "We'll download the ILSVRC2012 validation URLs and pick a few at random"
   ]
  },
  {
   "cell_type": "code",
   "execution_count": null,
   "metadata": {
    "collapsed": false
   },
   "outputs": [],
   "source": [
    "import requests\n",
    "\n",
    "index = requests.get('http://www.image-net.org/challenges/LSVRC/2012/ori_urls/indexval.html').text\n",
    "image_urls = index.split('<br>')\n",
    "\n",
    "np.random.seed(23)\n",
    "np.random.shuffle(image_urls)\n",
    "image_urls = image_urls[:5]\n",
    "\n",
    "image_urls"
   ]
  },
  {
   "cell_type": "markdown",
   "metadata": {},
   "source": [
    "### Process test images and print top 5 predicted labels\u00b6\n",
    "(uses image pre-processing functions from ./model/inception_v3.py)\n"
   ]
  },
  {
   "cell_type": "code",
   "execution_count": null,
   "metadata": {
    "collapsed": false
   },
   "outputs": [],
   "source": [
    "import io\n",
    "\n",
    "for url in image_urls:\n",
    "    try:\n",
    "        ext = url.split('.')[-1]\n",
    "        im = plt.imread(io.BytesIO(requests.get(url).content), ext)\n",
    "        \n",
    "        prob = np.array( lasagne.layers.get_output(output_layer, inception_v3.preprocess(im), deterministic=True).eval() )\n",
    "        top5 = np.argsort(prob[0])[-1:-6:-1]\n",
    "\n",
    "        plt.figure()\n",
    "        plt.imshow(inception_v3.resize_image(im))\n",
    "        plt.axis('off')\n",
    "        for n, label in enumerate(top5):\n",
    "            plt.text(350, 50 + n * 25, '{}. {}'.format(n+1, classes[label]), fontsize=14)\n",
    "            \n",
    "    except IOError:\n",
    "        print('bad url: ' + url)"
   ]
  },
  {
   "cell_type": "code",
   "execution_count": null,
   "metadata": {
    "collapsed": true
   },
   "outputs": [],
   "source": []
  }
 ],
 "metadata": {
  "kernelspec": {
   "display_name": "Python 3",
   "language": "python",
   "name": "python3"
  },
  "language_info": {
   "codemirror_mode": {
    "name": "ipython",
    "version": 3
   },
   "file_extension": ".py",
   "mimetype": "text/x-python",
   "name": "python",
   "nbconvert_exporter": "python",
   "pygments_lexer": "ipython3",
   "version": "3.5.3"
  }
 },
 "nbformat": 4,
 "nbformat_minor": 0
}