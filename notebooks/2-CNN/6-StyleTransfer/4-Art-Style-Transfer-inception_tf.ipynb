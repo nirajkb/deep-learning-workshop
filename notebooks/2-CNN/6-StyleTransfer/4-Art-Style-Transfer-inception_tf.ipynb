{
 "cells": [
  {
   "cell_type": "markdown",
   "metadata": {},
   "source": [
    "# Art Style Transfer\n",
    "\n",
    "This notebook is a re-implementation of the algorithm described in \"A Neural Algorithm of Artistic Style\" (http://arxiv.org/abs/1508.06576) by Gatys, Ecker and Bethge. Additional details of their method are available at http://arxiv.org/abs/1505.07376 and http://bethgelab.org/deepneuralart/.\n",
    "\n",
    "An image is generated which combines the content of a photograph with the \"style\" of a painting. This is accomplished by jointly minimizing the squared difference between feature activation maps of the photo and generated image, and the squared difference of feature correlation between painting and generated image. A total variation penalty is also applied to reduce high frequency noise. \n",
    "\n",
    "This notebook was originally sourced from [Lasagne Recipes](https://github.com/Lasagne/Recipes/tree/master/examples/styletransfer), but has been modified to use a GoogLeNet network (pre-trained and pre-loaded), in TensorFlow and given some features to make it easier to experiment with.\n",
    "\n",
    "Other implementations : \n",
    "  *  https://github.com/Hvass-Labs/TensorFlow-Tutorials/blob/master/15_Style_Transfer.ipynb (with [video](https://www.youtube.com/watch?v=LoePx3QC5Js))\n",
    "  *  https://github.com/cysmith/neural-style-tf\n",
    "  *  https://github.com/anishathalye/neural-style"
   ]
  },
  {
   "cell_type": "code",
   "execution_count": 22,
   "metadata": {
    "collapsed": true
   },
   "outputs": [],
   "source": [
    "import tensorflow as tf\n",
    "\n",
    "import numpy as np\n",
    "import scipy\n",
    "import scipy.misc  # for imresize\n",
    "\n",
    "import matplotlib.pyplot as plt\n",
    "%matplotlib inline\n",
    "\n",
    "import time\n",
    "\n",
    "from urllib.request import urlopen  # Python 3+ version (instead of urllib2)\n",
    "\n",
    "import os # for directory listings\n",
    "import pickle\n",
    "\n",
    "AS_PATH='./images/art-style'"
   ]
  },
  {
   "cell_type": "markdown",
   "metadata": {},
   "source": [
    "### Add TensorFlow Slim Model Zoo to path"
   ]
  },
  {
   "cell_type": "code",
   "execution_count": 23,
   "metadata": {},
   "outputs": [],
   "source": [
    "import os, sys\n",
    "\n",
    "tf_zoo_models_dir = './models/tensorflow_zoo'\n",
    "\n",
    "if not os.path.exists(tf_zoo_models_dir):\n",
    "    print(\"Creating %s directory\" % (tf_zoo_models_dir,))\n",
    "    os.makedirs(tf_zoo_models_dir)\n",
    "if not os.path.isfile( os.path.join(tf_zoo_models_dir, 'models', 'README.md') ):\n",
    "    print(\"Cloning tensorflow model zoo under %s\" % (tf_zoo_models_dir, ))\n",
    "    !cd {tf_zoo_models_dir}; git clone https://github.com/tensorflow/models.git\n",
    "\n",
    "sys.path.append(tf_zoo_models_dir + \"/models/slim\")\n",
    "\n",
    "print(\"Model Zoo model code installed\")"
   ]
  },
  {
   "cell_type": "markdown",
   "metadata": {},
   "source": [
    "### The Inception v1 (GoogLeNet) Architecture|\n",
    "\n",
    "![GoogLeNet Architecture](../../images/presentation/googlenet-arch_1228x573.jpg)"
   ]
  },
  {
   "cell_type": "markdown",
   "metadata": {},
   "source": [
    "### Download the Inception V1 checkpoint\u00b6\n",
    "\n",
    "Functions for building the GoogLeNet model with TensorFlow / slim and preprocessing the images are defined in ```model.inception_v1_tf``` - which was downloaded from the TensorFlow / slim [Model Zoo](https://github.com/tensorflow/models/tree/master/slim).\n",
    "\n",
    "The actual code for the ```slim``` model will be <a href=\"model/tensorflow_zoo/models/slim/nets/inception_v1.py\" target=_blank>here</a>."
   ]
  },
  {
   "cell_type": "code",
   "execution_count": 24,
   "metadata": {},
   "outputs": [],
   "source": [
    "from datasets import dataset_utils\n",
    "\n",
    "targz = \"inception_v1_2016_08_28.tar.gz\"\n",
    "url = \"http://download.tensorflow.org/models/\"+targz\n",
    "checkpoints_dir = './data/tensorflow_zoo/checkpoints'\n",
    "\n",
    "if not os.path.exists(checkpoints_dir):\n",
    "    os.makedirs(checkpoints_dir)\n",
    "\n",
    "if not os.path.isfile( os.path.join(checkpoints_dir, 'inception_v1.ckpt') ):\n",
    "    tarfilepath = os.path.join(checkpoints_dir, targz)\n",
    "    if os.path.isfile(tarfilepath):\n",
    "        import tarfile\n",
    "        tarfile.open(tarfilepath, 'r:gz').extractall(checkpoints_dir)\n",
    "    else:\n",
    "        dataset_utils.download_and_uncompress_tarball(url, checkpoints_dir)\n",
    "        \n",
    "    # Get rid of tarfile source (the checkpoint itself will remain)\n",
    "    os.unlink(tarfilepath)\n",
    "        \n",
    "print(\"Checkpoint available locally\")"
   ]
  },
  {
   "cell_type": "code",
   "execution_count": 25,
   "metadata": {},
   "outputs": [],
   "source": [
    "slim = tf.contrib.slim\n",
    "\n",
    "from nets import inception\n",
    "from preprocessing import inception_preprocessing\n",
    "\n",
    "image_size = inception.inception_v1.default_image_size\n",
    "\n",
    "IMAGE_W=224\n",
    "image_size"
   ]
  },
  {
   "cell_type": "code",
   "execution_count": 26,
   "metadata": {
    "collapsed": true
   },
   "outputs": [],
   "source": [
    "def prep_image(im):\n",
    "    if len(im.shape) == 2:\n",
    "        im = im[:, :, np.newaxis]\n",
    "        im = np.repeat(im, 3, axis=2)\n",
    "        \n",
    "    # Resize so smallest dim = 224, preserving aspect ratio\n",
    "    h, w, _ = im.shape\n",
    "    if h < w:\n",
    "        im = scipy.misc.imresize(im, (224, int(w*224/h)))\n",
    "    else:\n",
    "        im = scipy.misc.imresize(im, (int(h*224/w), 224))\n",
    "\n",
    "    # Central crop to 224x224\n",
    "    h, w, _ = im.shape\n",
    "    im = im[h//2-112:h//2+112, w//2-112:w//2+112]\n",
    "    \n",
    "    rawim = np.copy(im).astype('uint8')\n",
    "    \n",
    "    # Now rescale it to [-1,+1].float32 from [0..255].unit8\n",
    "    im = ( im.astype('float32')/255.0 - 0.5 ) * 2.0\n",
    "    return rawim, im"
   ]
  },
  {
   "cell_type": "markdown",
   "metadata": {
    "collapsed": true
   },
   "source": [
    "### Choose the Photo to be *Enhanced*\n"
   ]
  },
  {
   "cell_type": "code",
   "execution_count": 27,
   "metadata": {
    "collapsed": true
   },
   "outputs": [],
   "source": [
    "photos = [ '%s/photos/%s' % (AS_PATH, f) for f in os.listdir('%s/photos/' % AS_PATH) if not f.startswith('.')]\n",
    "photo_i=-1 # will be incremented in next cell (i.e. to start at [0])"
   ]
  },
  {
   "cell_type": "markdown",
   "metadata": {},
   "source": [
    "Executing the cell below will iterate through the images in the ```./images/art-style/photos``` directory, so you can choose the one you want"
   ]
  },
  {
   "cell_type": "code",
   "execution_count": 31,
   "metadata": {},
   "outputs": [],
   "source": [
    "photo_i += 1\n",
    "photo = plt.imread(photos[photo_i % len(photos)])\n",
    "photo_rawim, photo = prep_image(photo)\n",
    "plt.imshow(photo_rawim)"
   ]
  },
  {
   "cell_type": "markdown",
   "metadata": {},
   "source": [
    "### Choose the photo with the required 'Style'"
   ]
  },
  {
   "cell_type": "code",
   "execution_count": 32,
   "metadata": {
    "collapsed": true
   },
   "outputs": [],
   "source": [
    "styles = [ '%s/styles/%s' % (AS_PATH, f) for f in os.listdir('%s/styles/' % AS_PATH) if not f.startswith('.')]\n",
    "style_i=-1 # will be incremented in next cell (i.e. to start at [0])"
   ]
  },
  {
   "cell_type": "markdown",
   "metadata": {},
   "source": [
    "Executing the cell below will iterate through the images in the ```./images/art-style/styles``` directory, so you can choose the one you want"
   ]
  },
  {
   "cell_type": "code",
   "execution_count": 45,
   "metadata": {},
   "outputs": [],
   "source": [
    "style_i += 1\n",
    "style = plt.imread(styles[style_i % len(styles)])\n",
    "style_rawim, style = prep_image(style)\n",
    "plt.imshow(style_rawim)"
   ]
  },
  {
   "cell_type": "code",
   "execution_count": 46,
   "metadata": {
    "collapsed": true
   },
   "outputs": [],
   "source": [
    "def plot_layout(artwork):\n",
    "    def no_axes():\n",
    "        plt.gca().xaxis.set_visible(False)    \n",
    "        plt.gca().yaxis.set_visible(False)    \n",
    "        \n",
    "    plt.figure(figsize=(9,6))\n",
    "\n",
    "    plt.subplot2grid( (2,3), (0,0) )\n",
    "    no_axes()\n",
    "    plt.imshow(photo_rawim)\n",
    "\n",
    "    plt.subplot2grid( (2,3), (1,0) )\n",
    "    no_axes()\n",
    "    plt.imshow(style_rawim)\n",
    "\n",
    "    plt.subplot2grid( (2,3), (0,1), colspan=2, rowspan=2 )\n",
    "    no_axes()\n",
    "    plt.imshow(artwork, interpolation='nearest')\n",
    "\n",
    "    plt.tight_layout()"
   ]
  },
  {
   "cell_type": "markdown",
   "metadata": {},
   "source": [
    "### Precompute layer activations for photo and artwork \n",
    "This takes ~ 20 seconds"
   ]
  },
  {
   "cell_type": "code",
   "execution_count": 47,
   "metadata": {},
   "outputs": [],
   "source": [
    "tf.reset_default_graph()\n",
    "\n",
    "# This creates an image 'placeholder' - image inputs should be (224,224,3).float32 each [-1.0,1.0]\n",
    "input_image_float = tf.placeholder(tf.float32, shape=[None, None, 3], name='input_image_float')\n",
    "#input_image_var = tf.Variable(tf.zeros([image_size,image_size,3], dtype=tf.uint8), name='input_image_var' )\n",
    "\n",
    "# Define the pre-processing chain within the graph - based on the input 'image' above\n",
    "#processed_image = inception_preprocessing.preprocess_image(input_image, image_size, image_size, is_training=False)\n",
    "\n",
    "processed_image = input_image_float\n",
    "processed_images = tf.expand_dims(processed_image, 0)\n",
    "\n",
    "print(\"Model builder starting\")\n",
    "\n",
    "# Here is the actual model zoo model being instantiated :\n",
    "with slim.arg_scope(inception.inception_v1_arg_scope()):\n",
    "    _, end_points = inception.inception_v1(processed_images, num_classes=1001, is_training=False)\n",
    "\n",
    "# Create an operation that loads the pre-trained model from the checkpoint\n",
    "init_fn = slim.assign_from_checkpoint_fn(\n",
    "    os.path.join(checkpoints_dir, 'inception_v1.ckpt'),\n",
    "    slim.get_model_variables('InceptionV1')\n",
    ")\n",
    "\n",
    "print(\"Model defined\")"
   ]
  },
  {
   "cell_type": "code",
   "execution_count": 48,
   "metadata": {},
   "outputs": [],
   "source": [
    "#dir(slim.get_model_variables('InceptionV1')[10])\n",
    "#[ v.name for v in slim.get_model_variables('InceptionV1') ]\n",
    "sorted(end_points.keys())\n",
    "#dir(end_points['Mixed_4b'])\n",
    "#end_points['Mixed_4b'].name"
   ]
  },
  {
   "cell_type": "markdown",
   "metadata": {},
   "source": [
    "So that gives us a pallette of GoogLeNet layers from which we can choose to pay attention to :"
   ]
  },
  {
   "cell_type": "code",
   "execution_count": 49,
   "metadata": {
    "collapsed": true
   },
   "outputs": [],
   "source": [
    "photo_layers = [\n",
    "    # used for 'content' in photo - a mid-tier convolutional layer \n",
    "    'Mixed_4b',      #Theano : 'inception_4b/output', \n",
    "#    'pool4/3x3_s2', \n",
    "]\n",
    "\n",
    "style_layers = [\n",
    "    # used for 'style' - conv layers throughout model (not same as content one)\n",
    "    'Conv2d_1a_7x7', #Theano : 'conv1/7x7_s2',        \n",
    "    'Conv2d_2c_3x3', #Theano : 'conv2/3x3', \n",
    "    'Mixed_3b',      #Theano : 'inception_3b/output',  \n",
    "    'Mixed_4d',      #Theano : 'inception_4d/output',\n",
    "\n",
    "#    'conv1/7x7_s2', 'conv2/3x3', 'pool3/3x3_s2', 'inception_5b/output',\n",
    "]\n",
    "all_layers = photo_layers+style_layers"
   ]
  },
  {
   "cell_type": "code",
   "execution_count": 50,
   "metadata": {
    "collapsed": true
   },
   "outputs": [],
   "source": [
    "# Actually, we'll capture more data than necessary, so we can compare the how they look (below)\n",
    "photo_layers_capture = all_layers  # more minimally = photo_layers\n",
    "style_layers_capture = all_layers  # more minimally = style_layers"
   ]
  },
  {
   "cell_type": "markdown",
   "metadata": {},
   "source": [
    "Let's grab (constant) values for all the layers required for the original photo, and the style image :"
   ]
  },
  {
   "cell_type": "code",
   "execution_count": 51,
   "metadata": {},
   "outputs": [],
   "source": [
    "# Now let's run the pre-trained model on the photo and the style\n",
    "style_features={}\n",
    "photo_features={}\n",
    "\n",
    "with tf.Session() as sess:\n",
    "    # This is the loader 'op' we defined above\n",
    "    init_fn(sess)  \n",
    "    \n",
    "    # This run grabs all the layer constants for the original photo image input\n",
    "    photo_layers_np = sess.run([ end_points[k] for k in photo_layers_capture ], feed_dict={input_image_float: photo})\n",
    "    \n",
    "    for i,l in enumerate(photo_layers_np):\n",
    "        photo_features[ photo_layers_capture[i] ] = l\n",
    "\n",
    "    # This run grabs all the layer constants for the style image input\n",
    "    style_layers_np = sess.run([ end_points[k] for k in style_layers_capture ], feed_dict={input_image_float: style})\n",
    "    \n",
    "    for i,l in enumerate(style_layers_np):\n",
    "        style_features[ style_layers_capture[i] ] = l\n",
    "\n",
    "    # Helpful display of \n",
    "    for i,name in enumerate(all_layers):\n",
    "        desc = []\n",
    "        if name in style_layers:\n",
    "            desc.append('style')\n",
    "            l=style_features[name]\n",
    "        if name in photo_layers:\n",
    "            desc.append('photo')\n",
    "            l=photo_features[name]\n",
    "        print(\"  Layer[%d].shape=%18s, %s.name = '%s'\" % (i, str(l.shape), '+'.join(desc), name,))"
   ]
  },
  {
   "cell_type": "markdown",
   "metadata": {},
   "source": [
    "Here are what the layers each see (photo on the top, style on the bottom for each set) :"
   ]
  },
  {
   "cell_type": "code",
   "execution_count": 52,
   "metadata": {
    "scrolled": false
   },
   "outputs": [],
   "source": [
    "for name in all_layers:\n",
    "    print(\"Layer Name : '%s'\" % (name,))\n",
    "    plt.figure(figsize=(12,6))\n",
    "    for i in range(4):\n",
    "        if name in photo_features:\n",
    "            plt.subplot(2, 4, i+1)\n",
    "            plt.imshow(photo_features[ name ][0, :, :, i], interpolation='nearest') # , cmap='gray'\n",
    "            plt.axis('off')\n",
    "        \n",
    "        if name in style_features:\n",
    "            plt.subplot(2, 4, 4+i+1)\n",
    "            plt.imshow(style_features[ name ][0, :, :, i], interpolation='nearest') #, cmap='gray'\n",
    "            plt.axis('off')\n",
    "    plt.show()"
   ]
  },
  {
   "cell_type": "markdown",
   "metadata": {},
   "source": [
    "### Define the overall loss / badness function"
   ]
  },
  {
   "cell_type": "markdown",
   "metadata": {},
   "source": [
    "Let's now create model losses, which involve the ```end_points``` evaluated from the generated image, coupled with the appropriate constant layer losses from above : "
   ]
  },
  {
   "cell_type": "code",
   "execution_count": 53,
   "metadata": {
    "collapsed": true
   },
   "outputs": [],
   "source": [
    "art_features = {}\n",
    "for name in all_layers:  \n",
    "    art_features[name] = end_points[name]"
   ]
  },
  {
   "cell_type": "markdown",
   "metadata": {},
   "source": [
    "This defines various measures of difference that we'll use to compare the current output image with the original sources."
   ]
  },
  {
   "cell_type": "code",
   "execution_count": 55,
   "metadata": {
    "collapsed": true
   },
   "outputs": [],
   "source": [
    "def gram_matrix(tensor):\n",
    "    shape = tensor.get_shape()\n",
    "    \n",
    "    # Get the number of feature channels for the input tensor,\n",
    "    # which is assumed to be from a convolutional layer with 4-dim.\n",
    "    num_channels = int(shape[3])\n",
    "\n",
    "    # Reshape the tensor so it is a 2-dim matrix. This essentially\n",
    "    # flattens the contents of each feature-channel.\n",
    "    matrix = tf.reshape(tensor, shape=[-1, num_channels])\n",
    "    \n",
    "    # Calculate the Gram-matrix as the matrix-product of\n",
    "    # the 2-dim matrix with itself. This calculates the\n",
    "    # dot-products of all combinations of the feature-channels.\n",
    "    gram = tf.matmul(tf.transpose(matrix), matrix)\n",
    "    return gram\n",
    "\n",
    "def content_loss(P, X, layer):\n",
    "    p = tf.constant( P[layer] )\n",
    "    x = X[layer]\n",
    "    \n",
    "    loss = 1./2. * tf.reduce_mean(tf.square(x - p))\n",
    "    return loss\n",
    "\n",
    "def style_loss(S, X, layer):\n",
    "    s = tf.constant( S[layer] )\n",
    "    x = X[layer]\n",
    "    \n",
    "    S_gram = gram_matrix(s)\n",
    "    X_gram = gram_matrix(x)\n",
    "    \n",
    "    layer_shape = s.get_shape()\n",
    "    N = layer_shape[1]\n",
    "    M = layer_shape[2] * layer_shape[3]\n",
    "    \n",
    "    loss = tf.reduce_mean(tf.square(X_gram - S_gram)) / (4. * tf.cast( tf.square(N) * tf.square(M), tf.float32))\n",
    "    return loss\n",
    "\n",
    "def total_variation_loss_l1(x):\n",
    "    loss = tf.add( \n",
    "            tf.reduce_sum(tf.abs(x[1:,:,:] - x[:-1,:,:])), \n",
    "            tf.reduce_sum(tf.abs(x[:,1:,:] - x[:,:-1,:]))\n",
    "           )\n",
    "    return loss\n",
    "\n",
    "def total_variation_loss_lX(x):\n",
    "    loss = tf.reduce_sum(\n",
    "            tf.pow( \n",
    "                tf.square( x[1:,:-1,:] - x[:-1,:-1,:]) + tf.square( x[:-1,1:,:] - x[:-1,:-1,:]),\n",
    "                1.25)\n",
    "           )\n",
    "    return loss"
   ]
  },
  {
   "cell_type": "code",
   "execution_count": 56,
   "metadata": {
    "collapsed": true
   },
   "outputs": [],
   "source": [
    "# And here are some more TF nodes, to compute the losses using the layer values 'saved off' earlier\n",
    "losses = []\n",
    "\n",
    "# content loss\n",
    "cl = 10.\n",
    "losses.append(cl *1.     * content_loss(photo_features, art_features, 'Mixed_4b'))\n",
    "\n",
    "# style loss\n",
    "sl = 2. *1000. *1000.\n",
    "losses.append(sl *1.     * style_loss(style_features, art_features, 'Conv2d_1a_7x7'))\n",
    "losses.append(sl *1.     * style_loss(style_features, art_features, 'Conv2d_2c_3x3'))\n",
    "losses.append(sl *10.    * style_loss(style_features, art_features, 'Mixed_3b'))\n",
    "losses.append(sl *10.    * style_loss(style_features, art_features, 'Mixed_4d'))\n",
    "\n",
    "# total variation penalty\n",
    "vp = 10. /1000. /1000.\n",
    "losses.append(vp *1.     * total_variation_loss_lX(input_image_float))\n",
    "#losses.append(vp *1.     * total_variation_loss_l1(input_image_float))\n",
    "\n",
    "\n",
    "# ['193.694946', '5.038591', '1.713539', '8.238111', '0.034608', '9.986152']\n",
    "# ['0.473700', '0.034096', '0.010799', '0.021023', '0.164272', '0.539243']\n",
    "# ['2.659750', '0.238304', '0.073061', '0.190739', '0.806217', '3.915816']\n",
    "# ['1.098473', '0.169444', '0.245660', '0.109285', '0.938582', '0.028973']\n",
    "# ['0.603620', '1.707279', '0.498789', '0.181227', '0.060200', '0.002774']\n",
    "# ['0.788231', '0.920096', '0.358549', '0.806517', '0.256121', '0.002777']\n",
    "\n",
    "total_loss = tf.reduce_sum(losses)\n",
    "\n",
    "# And define the overall symbolic gradient operation\n",
    "total_grad = tf.gradients(total_loss, [input_image_float])[0]"
   ]
  },
  {
   "cell_type": "markdown",
   "metadata": {},
   "source": [
    "### Get Ready for Optimisation by SciPy\n",
    "\n",
    "This uses the BFGS routine : \n",
    "  *  R. H. Byrd, P. Lu and J. Nocedal. A Limited Memory Algorithm for Bound Constrained Optimization, (1995), SIAM Journal on Scientific and Statistical Computing, 16, 5, pp. 1190-1208."
   ]
  },
  {
   "cell_type": "markdown",
   "metadata": {},
   "source": [
    "Initialize with the original ```photo```, since going from noise (the code that's commented out) takes many more iterations : "
   ]
  },
  {
   "cell_type": "code",
   "execution_count": 57,
   "metadata": {
    "collapsed": true
   },
   "outputs": [],
   "source": [
    "art_image = photo\n",
    "#art_image = np.random.uniform(-1.0, +1.0, (image_size, image_size, 3))\n",
    "\n",
    "x0 = art_image.flatten().astype('float64')\n",
    "iteration=0"
   ]
  },
  {
   "cell_type": "markdown",
   "metadata": {},
   "source": [
    "### Optimize all those losses, and show the image\n",
    "\n",
    "To refine the result, just keep hitting 'run' on this cell (each iteration is about 60 seconds) :"
   ]
  },
  {
   "cell_type": "code",
   "execution_count": 58,
   "metadata": {
    "scrolled": false
   },
   "outputs": [],
   "source": [
    "t0 = time.time()\n",
    "\n",
    "with tf.Session() as sess:\n",
    "    init_fn(sess)\n",
    "    \n",
    "    # This helper function (to interface with scipy.optimize) must close over sess\n",
    "    def eval_loss_and_grad(x):  # x0 is a 3*image_size*image_size float64 vector\n",
    "        x_image = x.reshape(image_size,image_size,3).astype('float32')\n",
    "        x_loss, x_grad = sess.run( [total_loss, total_grad], feed_dict={input_image_float: x_image} )\n",
    "        print(\"\\nEval Loss @ \", [ \"%.6f\" % l for l in x[100:106]], \" = \", x_loss)\n",
    "        #print(\"Eval Grad = \", [ \"%.6f\" % l for l in x_grad.flatten()[100:106]] )\n",
    "        \n",
    "        losses_ = sess.run( losses, feed_dict={input_image_float: x_image} )\n",
    "        print(\"Eval loss components = \", [ \"%.6f\" % l for l in losses_])\n",
    "        \n",
    "        return x_loss.astype('float64'), x_grad.flatten().astype('float64')\n",
    "\n",
    "    x0, x0_loss, state = scipy.optimize.fmin_l_bfgs_b( eval_loss_and_grad, x0, maxfun=50) \n",
    "    iteration += 1\n",
    "\n",
    "print(\"Iteration %d, in %.1fsec, Current loss : %.4f\" % (iteration, float(time.time() - t0), x0_loss))\n",
    "\n",
    "art_raw = np.clip( ((x0*0.5 + 0.5) * 255.0), a_min=0.0, a_max=255.0 )\n",
    "plot_layout( art_raw.reshape(image_size,image_size,3).astype('uint8') )"
   ]
  },
  {
   "cell_type": "markdown",
   "metadata": {
    "collapsed": true
   },
   "source": [
    "### Now try it on your own images and styles..."
   ]
  },
  {
   "cell_type": "code",
   "execution_count": null,
   "metadata": {
    "collapsed": true
   },
   "outputs": [],
   "source": []
  }
 ],
 "metadata": {
  "kernelspec": {
   "display_name": "Python 3",
   "language": "python",
   "name": "python3"
  },
  "language_info": {
   "codemirror_mode": {
    "name": "ipython",
    "version": 3
   },
   "file_extension": ".py",
   "mimetype": "text/x-python",
   "name": "python",
   "nbconvert_exporter": "python",
   "pygments_lexer": "ipython3",
   "version": "3.6.1"
  }
 },
 "nbformat": 4,
 "nbformat_minor": 1
}