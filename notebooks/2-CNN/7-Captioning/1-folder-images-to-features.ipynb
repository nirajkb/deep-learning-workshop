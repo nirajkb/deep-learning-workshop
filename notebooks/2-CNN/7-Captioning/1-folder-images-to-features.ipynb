{
 "cells": [
  {
   "cell_type": "markdown",
   "metadata": {},
   "source": [
    "## Flickr30k to Features\n",
    "\n",
    "*   P. Young, A. Lai, M. Hodosh, and J. Hockenmaier. _From image description to visual denotations: New similarity metrics for semantic inference over event descriptions._ Transactions of the Association for Computational Linguistics (to appear).\n",
    "\n"
   ]
  },
  {
   "cell_type": "code",
   "execution_count": null,
   "metadata": {
    "collapsed": true
   },
   "outputs": [],
   "source": [
    "import os\n",
    "\n",
    "import tensorflow.contrib.keras as keras\n",
    "import numpy as np\n",
    "\n",
    "import datetime\n",
    "t_start=datetime.datetime.now()\n",
    "\n",
    "import pickle"
   ]
  },
  {
   "cell_type": "code",
   "execution_count": null,
   "metadata": {
    "collapsed": true
   },
   "outputs": [],
   "source": [
    "image_folder_path = './data/Flickr30k/flickr30k-images'"
   ]
  },
  {
   "cell_type": "code",
   "execution_count": null,
   "metadata": {},
   "outputs": [],
   "source": [
    "output_dir = './data/cache'\n",
    "\n",
    "output_filepath = os.path.join(output_dir, \n",
    "                                'FEATURES_%s_%s.pkl' % ( \n",
    "                                 image_folder_path.replace('./', '').replace('/', '_'),\n",
    "                                 t_start.strftime(\"%Y-%m-%d_%H-%M\"),\n",
    "                                ), )\n",
    "output_filepath"
   ]
  },
  {
   "cell_type": "code",
   "execution_count": null,
   "metadata": {
    "collapsed": true
   },
   "outputs": [],
   "source": [
    "from tensorflow.contrib.keras.api.keras.applications.inception_v3 import decode_predictions\n",
    "from tensorflow.contrib.keras.api.keras.preprocessing import image as keras_preprocessing_image"
   ]
  },
  {
   "cell_type": "code",
   "execution_count": null,
   "metadata": {
    "collapsed": true
   },
   "outputs": [],
   "source": [
    "from tensorflow.contrib.keras.api.keras.applications.inception_v3 import InceptionV3, preprocess_input\n",
    "\n",
    "BATCHSIZE=16"
   ]
  },
  {
   "cell_type": "code",
   "execution_count": null,
   "metadata": {},
   "outputs": [],
   "source": [
    "model = InceptionV3(weights='imagenet', include_top=False, pooling='avg')\n",
    "print(\"InceptionV3 loaded\")"
   ]
  },
  {
   "cell_type": "markdown",
   "metadata": {},
   "source": [
    "#### Plan \n",
    "\n",
    "*  Form a list of every file in the image directory\n",
    "*  Run InceptionV3 over the list\n",
    "*  Save off features to an easy-to-load filetype"
   ]
  },
  {
   "cell_type": "code",
   "execution_count": null,
   "metadata": {},
   "outputs": [],
   "source": [
    "import re\n",
    "good_image = re.compile( r'\\.(jpg|png|gif)$', flags=re.IGNORECASE )\n",
    "\n",
    "img_arr = [ f for f in os.listdir(image_folder_path) if good_image.search(f) ]\n",
    "', '.join( img_arr[:3] ), ', '.join( img_arr[-3:] )"
   ]
  },
  {
   "cell_type": "code",
   "execution_count": null,
   "metadata": {},
   "outputs": [],
   "source": [
    "# Create a generator for preprocessed images\n",
    "def preprocessed_image_gen():\n",
    "    #target_size=model.input_shape[1:]\n",
    "    target_size=(299, 299, 3)\n",
    "    print(\"target_size\", target_size)\n",
    "    for img_name in img_arr:\n",
    "        #print(\"img_name\", img_name)\n",
    "        img_path = os.path.join(image_folder_path, img_name)\n",
    "        img = keras_preprocessing_image.load_img(img_path, target_size=target_size)\n",
    "        yield keras.preprocessing.image.img_to_array(img)\n",
    "        #x = np.expand_dims(x, axis=0)  # This is to make a single image into a suitable array\n",
    "\n",
    "def image_batch(batchsize=BATCHSIZE):\n",
    "    while True:  # This needs to run 'for ever' for Keras input, even if only a fixed number are required\n",
    "        preprocessed_image_generator = preprocessed_image_gen()\n",
    "        start = True\n",
    "        for img in preprocessed_image_generator:\n",
    "            if start:\n",
    "                arr, n, start = [], 0, False\n",
    "            arr.append(img)\n",
    "            n += 1\n",
    "            if n>=batchsize: \n",
    "                stack = np.stack( arr, axis=0 )\n",
    "                #print(\"stack.shape\", stack.shape)\n",
    "                preprocessed = preprocess_input( stack )\n",
    "                #print(\"preprocessed.shape\", preprocessed.shape)\n",
    "                yield preprocessed\n",
    "                start=True\n",
    "        if len(arr)>0:\n",
    "            stack = np.stack( arr, axis=0 )\n",
    "            print(\"Final stack.shape\", stack.shape)\n",
    "            preprocessed = preprocess_input( stack )\n",
    "            print(\"Final preprocessed.shape\", preprocessed.shape)\n",
    "            yield preprocessed\n"
   ]
  },
  {
   "cell_type": "code",
   "execution_count": null,
   "metadata": {},
   "outputs": [],
   "source": [
    "if False:\n",
    "    image_batcher = image_batch()\n",
    "    batch = next(image_batcher)\n",
    "    features = model.predict_on_batch(batch)\n",
    "    features.shape"
   ]
  },
  {
   "cell_type": "code",
   "execution_count": null,
   "metadata": {},
   "outputs": [],
   "source": [
    "# This should do the batch creation on the CPU and the analysis on the GPU asynchronously.\n",
    "import math  # for ceil\n",
    "\n",
    "t0=datetime.datetime.now()\n",
    "\n",
    "features = model.predict_generator(image_batch(), steps = math.ceil( len(img_arr)/BATCHSIZE) )  #, verbose=1\n",
    "\n",
    "features.shape, (datetime.datetime.now()-t0)/len(img_arr)*1000."
   ]
  },
  {
   "cell_type": "code",
   "execution_count": null,
   "metadata": {},
   "outputs": [],
   "source": [
    "# Save the data into a useful structure\n",
    "\n",
    "save_me = dict(\n",
    "    features = features,\n",
    "    img_arr = img_arr,\n",
    ")\n",
    "\n",
    "if not os.path.exists(output_dir):\n",
    "    os.makedirs(output_dir)\n",
    "    \n",
    "with open( output_filepath, 'wb') as f:\n",
    "    pickle.dump(save_me, f)\n",
    "    \n",
    "print(\"Features saved to '%s'\" %(output_filepath,))"
   ]
  },
  {
   "cell_type": "code",
   "execution_count": null,
   "metadata": {
    "collapsed": true
   },
   "outputs": [],
   "source": []
  }
 ],
 "metadata": {
  "kernelspec": {
   "display_name": "Python 3",
   "language": "python",
   "name": "python3"
  },
  "language_info": {
   "codemirror_mode": {
    "name": "ipython",
    "version": 3
   },
   "file_extension": ".py",
   "mimetype": "text/x-python",
   "name": "python",
   "nbconvert_exporter": "python",
   "pygments_lexer": "ipython3",
   "version": "3.6.1"
  }
 },
 "nbformat": 4,
 "nbformat_minor": 2
}