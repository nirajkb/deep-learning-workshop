{
 "cells": [
  {
   "cell_type": "markdown",
   "metadata": {},
   "source": [
    "## Examine overfitted feature distributions"
   ]
  },
  {
   "cell_type": "markdown",
   "metadata": {},
   "source": [
    "### Download CIFAR10/CIFAR100 for PyTorch\n",
    "\n",
    "Model zoo : https://github.com/aaron-xichen/pytorch-playground\n",
    "\n",
    "CIFAR background : http://kele.github.io/cifar10-classification-summary.html"
   ]
  },
  {
   "cell_type": "code",
   "execution_count": 25,
   "metadata": {
    "collapsed": true
   },
   "outputs": [],
   "source": [
    "import torch\n",
    "import torch.nn as nn\n",
    "import torch.nn.functional as F\n",
    "import torch.optim as optim\n",
    "from torchvision import datasets, transforms\n",
    "from torch.autograd import Variable\n",
    "\n",
    "use_cuda=torch.cuda.is_available()"
   ]
  },
  {
   "cell_type": "code",
   "execution_count": 26,
   "metadata": {
    "collapsed": true
   },
   "outputs": [],
   "source": [
    "random_seed = 42\n",
    "batch_size = 200\n",
    "\n",
    "#learning_rate, momentum = 0.01, 0.5  # SGD with momentum\n",
    "learning_rate = 0.001   # SGD+Adam\n",
    "\n",
    "log_interval = 20 # Num of batches between log messages"
   ]
  },
  {
   "cell_type": "code",
   "execution_count": 27,
   "metadata": {
    "collapsed": true
   },
   "outputs": [],
   "source": [
    "import numpy as np\n",
    "\n",
    "import os\n",
    "import time"
   ]
  },
  {
   "cell_type": "code",
   "execution_count": 28,
   "metadata": {
    "collapsed": false
   },
   "outputs": [],
   "source": [
    "torch.manual_seed(random_seed)\n",
    "if use_cuda:\n",
    "    torch.cuda.manual_seed(random_seed)"
   ]
  },
  {
   "cell_type": "code",
   "execution_count": 29,
   "metadata": {
    "collapsed": false
   },
   "outputs": [],
   "source": [
    "#dataset = datasets.CIFAR10    # 170Mb of data download\n",
    "dataset = datasets.CIFAR100   # 169Mb of data download\n",
    "\n",
    "data_path = './data'\n",
    "\n",
    "transform = transforms.Compose([\n",
    "               transforms.ToTensor(),\n",
    "               transforms.Normalize((0.5, 0.5, 0.5), (0.5, 0.5, 0.5)),\n",
    "           ])\n",
    "\n",
    "train_loader = torch.utils.data.DataLoader(\n",
    "    dataset(data_path, train=True, download=True, transform=transform),\n",
    "    batch_size=batch_size, shuffle=True)\n",
    "\n",
    "test_loader = torch.utils.data.DataLoader(\n",
    "    dataset(data_path, train=False, download=True, transform=transform),\n",
    "    batch_size=batch_size, shuffle=True)"
   ]
  },
  {
   "cell_type": "code",
   "execution_count": 30,
   "metadata": {
    "collapsed": true
   },
   "outputs": [],
   "source": [
    "class CIFAR(nn.Module):\n",
    "    def __init__(self, features, n_channel, num_classes):\n",
    "        super(CIFAR, self).__init__()\n",
    "        assert isinstance(features, nn.Sequential), type(features)\n",
    "        self.features = features\n",
    "        self.classifier = nn.Sequential(\n",
    "            nn.Linear(n_channel, num_classes)\n",
    "        )\n",
    "        print(self.features)\n",
    "        print(self.classifier)\n",
    "\n",
    "    def forward(self, x):\n",
    "        x = self.features(x)\n",
    "        x = x.view(x.size(0), -1)\n",
    "        x = self.classifier(x)\n",
    "        return x\n",
    "\n",
    "\n",
    "def make_layers(cfg, batch_norm=False):\n",
    "    layers = []\n",
    "    in_channels = 3\n",
    "    for i, v in enumerate(cfg):\n",
    "        if v == 'M':\n",
    "            layers += [nn.MaxPool2d(kernel_size=2, stride=2)]\n",
    "        else:\n",
    "            padding = v[1] if isinstance(v, tuple) else 1\n",
    "            out_channels = v[0] if isinstance(v, tuple) else v\n",
    "            conv2d = nn.Conv2d(in_channels, out_channels, kernel_size=3, padding=padding)\n",
    "            if batch_norm:\n",
    "                print(\"Skipping the Batchnorm for these experiments\")\n",
    "                #layers += [conv2d, nn.BatchNorm2d(out_channels, affine=False), nn.ReLU()]\n",
    "            #else:\n",
    "                layers += [conv2d, nn.ReLU()]\n",
    "            in_channels = out_channels\n",
    "    return nn.Sequential(*layers)\n",
    "\n",
    "def cifar10(n_channel, pretrained=None):\n",
    "    cfg = [n_channel, n_channel, 'M', 2*n_channel, 2*n_channel, 'M', 4*n_channel, 4*n_channel, 'M', (8*n_channel, 0), 'M']\n",
    "    layers = make_layers(cfg, batch_norm=True)\n",
    "    model = CIFAR(layers, n_channel=8*n_channel, num_classes=10)\n",
    "    return model\n",
    "\n",
    "def cifar100(n_channel, pretrained=None):\n",
    "    cfg = [n_channel, n_channel, 'M', 2*n_channel, 2*n_channel, 'M', 4*n_channel, 4*n_channel, 'M', (8*n_channel, 0), 'M']\n",
    "    layers = make_layers(cfg, batch_norm=True)\n",
    "    model = CIFAR(layers, n_channel=8*n_channel, num_classes=100)\n",
    "    return model\n"
   ]
  },
  {
   "cell_type": "code",
   "execution_count": 31,
   "metadata": {
    "collapsed": false
   },
   "outputs": [],
   "source": [
    "#model = cifar10(128)\n",
    "#model = cifar10(32)\n",
    "model = cifar100(32)\n",
    "if use_cuda:\n",
    "    model.cuda()"
   ]
  },
  {
   "cell_type": "code",
   "execution_count": 32,
   "metadata": {
    "collapsed": false
   },
   "outputs": [],
   "source": [
    "#optimizer = optim.SGD(model.parameters(), lr=learning_rate, momentum=momentum)\n",
    "optimizer = optim.Adam(model.parameters(), lr=learning_rate)"
   ]
  },
  {
   "cell_type": "code",
   "execution_count": 33,
   "metadata": {
    "collapsed": true
   },
   "outputs": [],
   "source": [
    "#checkpoints_dir = './data/cache/overfitting/cifar10'\n",
    "checkpoints_dir = './data/cache/overfitting/cifar100'"
   ]
  },
  {
   "cell_type": "code",
   "execution_count": 34,
   "metadata": {
    "collapsed": true
   },
   "outputs": [],
   "source": [
    "#torch.save(the_model.state_dict(), PATH)\n",
    "\n",
    "#the_model = TheModelClass(*args, **kwargs)\n",
    "#the_model.load_state_dict(torch.load(PATH))\n",
    "\n",
    "def save(epoch):\n",
    "    if not os.path.exists(checkpoints_dir):\n",
    "        os.makedirs(checkpoints_dir)\n",
    "    torch.save(model.state_dict(), os.path.join(checkpoints_dir, 'saved_%03d.model' % (epoch+1, )))"
   ]
  },
  {
   "cell_type": "code",
   "execution_count": 35,
   "metadata": {
    "collapsed": false
   },
   "outputs": [],
   "source": [
    "def train(epoch):\n",
    "    model.train()\n",
    "    t0 = time.time()\n",
    "    tot_loss, correct = 0, 0\n",
    "    for batch_idx, (data, target) in enumerate(train_loader):\n",
    "        if use_cuda:\n",
    "            data, target = data.cuda(), target.cuda()\n",
    "        data, target = Variable(data), Variable(target)\n",
    "        optimizer.zero_grad()\n",
    "        output = model(data)\n",
    "        #loss = F.nll_loss(output, target)\n",
    "        loss = F.cross_entropy(output, target)\n",
    "        if True:\n",
    "            pred = output.data.max(1)[1] # get the index of the max log-probability\n",
    "            correct += pred.eq(target.data).cpu().sum()\n",
    "            tot_loss += loss.data[0]\n",
    "        loss.backward()\n",
    "        optimizer.step()\n",
    "        \n",
    "        if batch_idx % log_interval == 0:\n",
    "            bi1 = batch_idx+1\n",
    "            print('Train Epoch: {} [{:6d}/{:6d} ({:.0f}%)]\\tLoss: {:.4f}\\tt_epoch: {:.2f}secs'.format(\n",
    "                epoch, bi1 * len(data), len(train_loader.dataset),\n",
    "                100. * bi1 / len(train_loader), loss.data[0], \n",
    "                (time.time()-t0)*len(train_loader)/bi1,))\n",
    "            \n",
    "    tot_loss = tot_loss # loss function already averages over batch size\n",
    "    print('Training set: Average loss: {:.4f}, Accuracy: {}/{} ({:.2f}%)'.format(\n",
    "        tot_loss / len(train_loader), correct, len(train_loader.dataset),\n",
    "        100. * correct / len(train_loader.dataset)))\n",
    "    return tot_loss / len(train_loader), correct / len(train_loader.dataset)"
   ]
  },
  {
   "cell_type": "code",
   "execution_count": 36,
   "metadata": {
    "collapsed": true
   },
   "outputs": [],
   "source": [
    "def test(epoch):\n",
    "    model.eval()\n",
    "    tot_loss, correct = 0, 0\n",
    "    for data, target in test_loader:\n",
    "        if use_cuda:\n",
    "            data, target = data.cuda(), target.cuda()\n",
    "        data, target = Variable(data, volatile=True), Variable(target)\n",
    "        output = model(data)\n",
    "        #tot_loss += F.nll_loss(output, target).data[0]\n",
    "        tot_loss += F.cross_entropy(output, target).data[0]\n",
    "        pred = output.data.max(1)[1] # get the index of the max log-probability\n",
    "        correct += pred.eq(target.data).cpu().sum()\n",
    "    tot_loss = tot_loss  # loss function already averages over batch size\n",
    "    print('\\nTest set: Average loss: {:.4f}, Accuracy: {}/{} ({:.2f}%)\\n'.format(\n",
    "        tot_loss / len(test_loader), correct, len(test_loader.dataset),\n",
    "        100. * correct / len(test_loader.dataset)))\n",
    "    return tot_loss / len(test_loader), correct / len(test_loader.dataset)    "
   ]
  },
  {
   "cell_type": "code",
   "execution_count": 37,
   "metadata": {
    "collapsed": true
   },
   "outputs": [],
   "source": [
    "epoch, losses_by_epoch = 0, []"
   ]
  },
  {
   "cell_type": "code",
   "execution_count": 45,
   "metadata": {
    "collapsed": false,
    "scrolled": true
   },
   "outputs": [],
   "source": [
    "for _ in range(100):\n",
    "    epoch+=1\n",
    "    train_loss, train_correct = train(epoch)\n",
    "    save(epoch)\n",
    "    test_loss, test_correct = test(epoch)\n",
    "    losses_by_epoch.append( [ train_loss, train_correct, test_loss, test_correct ] )\n",
    "print(\"Finished %d epochs\" % (epoch,))"
   ]
  },
  {
   "cell_type": "code",
   "execution_count": 46,
   "metadata": {
    "collapsed": false
   },
   "outputs": [],
   "source": [
    "losses_by_epoch_np = np.array( losses_by_epoch )\n",
    "np.save(os.path.join(checkpoints_dir, 'losses_by_epoch%03d.npy' % epoch), losses_by_epoch_np)"
   ]
  },
  {
   "cell_type": "markdown",
   "metadata": {
    "collapsed": true
   },
   "source": [
    "### Plan :\n",
    "\n",
    "*  Test saving of model parameters\n",
    "*  Run multiple epochs, looking for test curve to move upwards (overfit)\n",
    "*  "
   ]
  },
  {
   "cell_type": "code",
   "execution_count": 40,
   "metadata": {
    "collapsed": false
   },
   "outputs": [],
   "source": [
    "losses_by_epoch"
   ]
  },
  {
   "cell_type": "code",
   "execution_count": null,
   "metadata": {
    "collapsed": true
   },
   "outputs": [],
   "source": []
  },
  {
   "cell_type": "code",
   "execution_count": null,
   "metadata": {
    "collapsed": true
   },
   "outputs": [],
   "source": []
  }
 ],
 "metadata": {
  "kernelspec": {
   "display_name": "Python 3",
   "language": "python",
   "name": "python3"
  },
  "language_info": {
   "codemirror_mode": {
    "name": "ipython",
    "version": 3
   },
   "file_extension": ".py",
   "mimetype": "text/x-python",
   "name": "python",
   "nbconvert_exporter": "python",
   "pygments_lexer": "ipython3",
   "version": "3.5.3"
  }
 },
 "nbformat": 4,
 "nbformat_minor": 2
}