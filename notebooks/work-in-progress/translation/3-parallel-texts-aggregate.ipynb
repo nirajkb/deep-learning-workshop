{
 "cells": [
  {
   "cell_type": "markdown",
   "metadata": {},
   "source": [
    "## Aggregate Parallel Texts in directory\n",
    "\n",
    "This assumes that we have a bunch of ```.csv``` files with the filename in the format ```${source}-${lang}.csv```, where each file has the header ```ts,txt``` to read in the text at each numeric timestamp."
   ]
  },
  {
   "cell_type": "code",
   "execution_count": null,
   "metadata": {
    "collapsed": true
   },
   "outputs": [],
   "source": [
    "import os\n",
    "import csv\n",
    "import time, random\n",
    "import re"
   ]
  },
  {
   "cell_type": "code",
   "execution_count": null,
   "metadata": {
    "collapsed": false
   },
   "outputs": [],
   "source": [
    "lang_from, lang_to = 'en', 'ko'\n",
    "\n",
    "data_path = './data'"
   ]
  },
  {
   "cell_type": "markdown",
   "metadata": {},
   "source": [
    "Go through all the files in the directory, and find the ```source``` prefixes that have both ```lang_from``` and ```lang_to``` CSVs available."
   ]
  },
  {
   "cell_type": "code",
   "execution_count": null,
   "metadata": {
    "collapsed": false
   },
   "outputs": [],
   "source": [
    "stub_from, stub_to = set(),set()\n",
    "stub_matcher = re.compile(r\"(.*)\\-(\\w+)\\.csv\")\n",
    "for fname in os.listdir(data_path):\n",
    "    #print(fname)\n",
    "    m = stub_matcher.match(fname)\n",
    "    if m:\n",
    "        stub, lang = m.group(1), m.group(2)\n",
    "        if lang == lang_from: stub_from.add(stub)\n",
    "        if lang == lang_to:   stub_to.add(stub)\n",
    "stub_both = stub_from.intersection(stub_to)"
   ]
  },
  {
   "cell_type": "markdown",
   "metadata": {},
   "source": [
    "Now, go through ```stub_both``` and for each CSVs, read in both languages, and take all the ```txt``` entries at the same timestamps, and build the correspondence."
   ]
  },
  {
   "cell_type": "code",
   "execution_count": null,
   "metadata": {
    "collapsed": false
   },
   "outputs": [],
   "source": [
    "correspondence_loc,txt_from,txt_to=[],[],[]\n",
    "\n",
    "def read_dict_from_csv(fname):\n",
    "    d=dict()\n",
    "    with open(fname, 'r') as csvfile:\n",
    "        reader = csv.DictReader(csvfile)\n",
    "        for row in reader:\n",
    "            d[float(row['ts'])]=row['txt']\n",
    "    return d\n",
    "\n",
    "for stub in stub_both:\n",
    "    #print(\"Reading stub %s\" % (stub,))\n",
    "    data_from = read_dict_from_csv( os.path.join(data_path, stub+'-'+lang_from+'.csv') )\n",
    "    data_to   = read_dict_from_csv( os.path.join(data_path, stub+'-'+lang_to+'.csv') )\n",
    "    \n",
    "    valid, skipped=0, 0\n",
    "    for ts, txt in data_from.items():\n",
    "        if ts in data_to:\n",
    "            correspondence_loc.append( (stub, ts) )\n",
    "            txt_from.append( txt )\n",
    "            txt_to.append( data_to[ts] )\n",
    "            valid += 1\n",
    "        else:\n",
    "            skipped += 1\n",
    "    print(\"%3d valid of %3d fragments from '%s'\" % (valid, valid+skipped, stub))\n",
    "print(\"  Total data : %d text fragments\" % (len(correspondence_loc),)) "
   ]
  },
  {
   "cell_type": "code",
   "execution_count": null,
   "metadata": {
    "collapsed": false
   },
   "outputs": [],
   "source": [
    "for _ in range(10):\n",
    "    i = random.randrange(len(correspondence_loc))\n",
    "    print( txt_from[i], txt_to[i]  )"
   ]
  },
  {
   "cell_type": "markdown",
   "metadata": {},
   "source": [
    "### Tokenize the correspondences\n",
    "NB: Japanese requires word-splitting too"
   ]
  },
  {
   "cell_type": "code",
   "execution_count": null,
   "metadata": {
    "collapsed": false
   },
   "outputs": [],
   "source": [
    "sub_punctuation = re.compile(r'[\\,\\.\\:\\;\\?\\!\\-\\\u2014\\s\\\"0-9\\(\\)]+')\n",
    "sub_apostrophes = re.compile(r'\\'(\\w+)')\n",
    "sub_multispaces = re.compile(r'\\s\\s+')\n",
    "    \n",
    "if lang_from=='ja' or lang_to=='ja':\n",
    "    import tinysegmenter\n",
    "    ja_segmenter = tinysegmenter.TinySegmenter()\n",
    "    sub_punc_ja  = re.compile(r'[\\\u300d\\\u300c\\\uff1f\\\u3002\\\u3001\\\u30fb\\\uff08\\\uff09\\\u2015]+')\n",
    "\n",
    "def tokenize_txt(arr, lang):\n",
    "    tok=[]\n",
    "    for txt in arr:\n",
    "        t = txt.lower()\n",
    "        t = re.sub(sub_punctuation, u' ', t)\n",
    "        if \"'\" in t:\n",
    "            t = re.sub(sub_apostrophes, r\" '\\1\", t)\n",
    "        if lang=='ja':\n",
    "            t = ' '.join( ja_segmenter.tokenize(t) )\n",
    "            t = re.sub(sub_punc_ja, u' ', t)\n",
    "        t = re.sub(sub_multispaces, ' ', t)\n",
    "        tok.append(t.strip())\n",
    "    return tok"
   ]
  },
  {
   "cell_type": "code",
   "execution_count": null,
   "metadata": {
    "collapsed": false
   },
   "outputs": [],
   "source": [
    "tok_from = tokenize_txt(txt_from, lang_from)\n",
    "tok_to   = tokenize_txt(txt_to, lang_to)"
   ]
  },
  {
   "cell_type": "code",
   "execution_count": null,
   "metadata": {
    "collapsed": false
   },
   "outputs": [],
   "source": [
    "tok_from[220:250]"
   ]
  },
  {
   "cell_type": "code",
   "execution_count": null,
   "metadata": {
    "collapsed": false
   },
   "outputs": [],
   "source": [
    "tok_to[220:250]"
   ]
  },
  {
   "cell_type": "markdown",
   "metadata": {},
   "source": [
    "### Build frequency dictionaries"
   ]
  },
  {
   "cell_type": "code",
   "execution_count": null,
   "metadata": {
    "collapsed": true
   },
   "outputs": [],
   "source": [
    "def build_freq(tok_arr):\n",
    "    f=dict()\n",
    "    for tok in tok_arr:\n",
    "        for w in tok.split():\n",
    "            if w not in f: f[w]=0\n",
    "            f[w]+=1\n",
    "    return f"
   ]
  },
  {
   "cell_type": "code",
   "execution_count": null,
   "metadata": {
    "collapsed": false
   },
   "outputs": [],
   "source": [
    "freq_from=build_freq(tok_from)\n",
    "freq_to  =build_freq(tok_to)"
   ]
  },
  {
   "cell_type": "code",
   "execution_count": null,
   "metadata": {
    "collapsed": false
   },
   "outputs": [],
   "source": [
    "len(freq_from),len(freq_to), "
   ]
  },
  {
   "cell_type": "code",
   "execution_count": null,
   "metadata": {
    "collapsed": false
   },
   "outputs": [],
   "source": [
    "def most_frequent(freq, n=50, start=0):\n",
    "    return ', '.join( sorted(freq,key=lambda w:freq[w], reverse=True)[start:n+start] )\n",
    "\n",
    "print(most_frequent(freq_from))\n",
    "print(most_frequent(freq_to, n=100))"
   ]
  },
  {
   "cell_type": "code",
   "execution_count": null,
   "metadata": {
    "collapsed": false
   },
   "outputs": [],
   "source": [
    "print(most_frequent(freq_from, n=20, start=9000))"
   ]
  },
  {
   "cell_type": "code",
   "execution_count": null,
   "metadata": {
    "collapsed": false
   },
   "outputs": [],
   "source": [
    "print( len( [_ for w,f in freq_from.items() if f>=10]))\n",
    "print( len( [_ for w,f in freq_to.items() if f>=10]))"
   ]
  },
  {
   "cell_type": "code",
   "execution_count": null,
   "metadata": {
    "collapsed": true
   },
   "outputs": [],
   "source": [
    "def build_rank(freq):\n",
    "    return { w:i for i,w in enumerate( sorted(freq, key=lambda w:freq[w], reverse=True) ) }"
   ]
  },
  {
   "cell_type": "code",
   "execution_count": null,
   "metadata": {
    "collapsed": false
   },
   "outputs": [],
   "source": [
    "rank_from = build_rank(freq_from)\n",
    "rank_to   = build_rank(freq_to)"
   ]
  },
  {
   "cell_type": "code",
   "execution_count": null,
   "metadata": {
    "collapsed": false
   },
   "outputs": [],
   "source": [
    "print(rank_from['robot'])"
   ]
  },
  {
   "cell_type": "code",
   "execution_count": null,
   "metadata": {
    "collapsed": true
   },
   "outputs": [],
   "source": [
    "def max_rank(tok, rank):  # Find the most infrequent word in this tokenized sentence\n",
    "    r = -1\n",
    "    for w in tok.split():\n",
    "        if rank[w]>r: r=rank[w] \n",
    "    return r\n",
    "tok_max_rank_from = [ max_rank(tok, rank_from) for tok in tok_from ]\n",
    "tok_max_rank_to   = [ max_rank(tok, rank_to)   for tok in tok_to ]"
   ]
  },
  {
   "cell_type": "code",
   "execution_count": null,
   "metadata": {
    "collapsed": false
   },
   "outputs": [],
   "source": [
    "start=0;print(tok_max_rank_from[start:start+15], '\\n', tok_max_rank_to[start:start+15],)\n",
    "i=0; tok_max_rank_from[i], tok_from[i], tok_to[i], tok_max_rank_to[i], "
   ]
  },
  {
   "cell_type": "markdown",
   "metadata": {},
   "source": [
    "### Build a fragment coincidence matrix\n",
    "This might allow us to do single word translations..."
   ]
  },
  {
   "cell_type": "code",
   "execution_count": null,
   "metadata": {
    "collapsed": true
   },
   "outputs": [],
   "source": []
  }
 ],
 "metadata": {
  "kernelspec": {
   "display_name": "Python 3",
   "language": "python",
   "name": "python3"
  },
  "language_info": {
   "codemirror_mode": {
    "name": "ipython",
    "version": 3
   },
   "file_extension": ".py",
   "mimetype": "text/x-python",
   "name": "python",
   "nbconvert_exporter": "python",
   "pygments_lexer": "ipython3",
   "version": "3.5.3"
  }
 },
 "nbformat": 4,
 "nbformat_minor": 2
}