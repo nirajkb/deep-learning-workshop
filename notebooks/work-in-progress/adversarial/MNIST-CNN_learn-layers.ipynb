{
 "cells": [
  {
   "cell_type": "code",
   "execution_count": null,
   "metadata": {
    "collapsed": true,
    "deletable": true,
    "editable": true
   },
   "outputs": [],
   "source": [
    "\"\"\"Convolutional Neural Network Estimator for MNIST, built with tf.layers.\"\"\"\n",
    "\n",
    "#  FROM : https://www.tensorflow.org/tutorials/layers#building_the_cnn_mnist_classifier\n",
    "#  CODE : https://www.tensorflow.org/code/tensorflow/examples/tutorials/layers/cnn_mnist.py\n",
    "\n",
    "import numpy as np\n",
    "import matplotlib.pyplot as plt\n",
    "%matplotlib inline\n",
    "\n",
    "import pickle\n",
    "\n",
    "import tensorflow as tf\n",
    "\n",
    "from tensorflow.contrib import learn\n",
    "from tensorflow.contrib.learn.python.learn.estimators import model_fn as model_fn_lib\n",
    "\n",
    "tf.logging.set_verbosity(tf.logging.INFO)  # Quite a lot...\n",
    "#tf.logging.set_verbosity(tf.logging.WARN)   # This prevents Logging ...\n",
    "\n",
    "do_training = False"
   ]
  },
  {
   "cell_type": "code",
   "execution_count": null,
   "metadata": {
    "collapsed": false
   },
   "outputs": [],
   "source": [
    "import sys\n",
    "print(sys.version)\n",
    "print('Tensorflow:',tf.__version__)"
   ]
  },
  {
   "cell_type": "markdown",
   "metadata": {},
   "source": [
    "Expecting:\n",
    "```\n",
    "Tensorflow: 1.0.0\n",
    "3.5.2 (default, Sep 14 2016, 11:28:32) \n",
    "[GCC 6.2.1 20160901 (Red Hat 6.2.1-1)]\n",
    "```"
   ]
  },
  {
   "cell_type": "code",
   "execution_count": null,
   "metadata": {
    "collapsed": true,
    "deletable": true,
    "editable": true
   },
   "outputs": [],
   "source": [
    "def cnn_model_fn(features, integer_labels, mode):\n",
    "  \"\"\"Model function for CNN.\"\"\"\n",
    "  #print(\"Run cnn_model_fn, mode=%s\" % (mode,))\n",
    "\n",
    "  if type(features) is dict:\n",
    "    #print(\"New-style feature input\")\n",
    "    features_images=features['images']\n",
    "  else:\n",
    "    print(\"OLD-style feature input (DEPRECATED)\")\n",
    "    features_images=features\n",
    "\n",
    "  # Input Layer\n",
    "  # Reshape X to 4-D tensor: [batch_size, width, height, channels]\n",
    "  # MNIST images are 28x28 pixels, and have one color channel\n",
    "  input_layer = tf.reshape(features_images, [-1, 28, 28, 1], name='input_layer')\n",
    "\n",
    "  # Convolutional Layer #1\n",
    "  # Computes 32 features using a 5x5 filter with ReLU activation.\n",
    "  # Padding is added to preserve width and height.\n",
    "  # Input Tensor Shape: [batch_size, 28, 28, 1]\n",
    "  # Output Tensor Shape: [batch_size, 28, 28, 32]\n",
    "  conv1 = tf.layers.conv2d(\n",
    "      inputs=input_layer,\n",
    "      filters=32,\n",
    "      kernel_size=[5, 5],\n",
    "      padding=\"same\",\n",
    "      activation=tf.nn.relu)\n",
    "\n",
    "  # Pooling Layer #1\n",
    "  # First max pooling layer with a 2x2 filter and stride of 2\n",
    "  # Input Tensor Shape: [batch_size, 28, 28, 32]\n",
    "  # Output Tensor Shape: [batch_size, 14, 14, 32]\n",
    "  pool1 = tf.layers.max_pooling2d(inputs=conv1, pool_size=[2, 2], strides=2)\n",
    "\n",
    "  # Convolutional Layer #2\n",
    "  # Computes 64 features using a 5x5 filter.\n",
    "  # Padding is added to preserve width and height.\n",
    "  # Input Tensor Shape: [batch_size, 14, 14, 32]\n",
    "  # Output Tensor Shape: [batch_size, 14, 14, 64]\n",
    "  conv2 = tf.layers.conv2d(\n",
    "      inputs=pool1,\n",
    "      filters=64,\n",
    "      kernel_size=[5, 5],\n",
    "      padding=\"same\",\n",
    "      activation=tf.nn.relu)\n",
    "\n",
    "  # Pooling Layer #2\n",
    "  # Second max pooling layer with a 2x2 filter and stride of 2\n",
    "  # Input Tensor Shape: [batch_size, 14, 14, 64]\n",
    "  # Output Tensor Shape: [batch_size, 7, 7, 64]\n",
    "  pool2 = tf.layers.max_pooling2d(inputs=conv2, pool_size=[2, 2], strides=2)\n",
    "\n",
    "  # Flatten tensor into a batch of vectors\n",
    "  # Input Tensor Shape: [batch_size, 7, 7, 64]\n",
    "  # Output Tensor Shape: [batch_size, 7 * 7 * 64]\n",
    "  pool2_flat = tf.reshape(pool2, [-1, 7 * 7 * 64])\n",
    "\n",
    "  # Dense Layer\n",
    "  # Densely connected layer with 1024 neurons\n",
    "  # Input Tensor Shape: [batch_size, 7 * 7 * 64]\n",
    "  # Output Tensor Shape: [batch_size, 1024]\n",
    "  dense = tf.layers.dense(inputs=pool2_flat, units=1024, activation=tf.nn.relu)\n",
    "\n",
    "  # Add dropout operation; 0.6 probability that element will be kept\n",
    "  dropout = tf.layers.dropout(\n",
    "      inputs=dense, rate=0.4, training= (mode == learn.ModeKeys.TRAIN) )\n",
    "\n",
    "  # Logits layer\n",
    "  # Input Tensor Shape: [batch_size, 1024]\n",
    "  # Output Tensor Shape: [batch_size, 10]\n",
    "  logits = tf.layers.dense(inputs=dropout, units=10)\n",
    "\n",
    "  #logits = tf.Print(logits, [input_layer.get_shape(), integer_labels.get_shape()], \"Debug size information : \", first_n=1)\n",
    "  #logits = tf.layers.dense(inputs=dense, units=10)\n",
    "\n",
    "  loss = None\n",
    "  train_op = None\n",
    "\n",
    "  # Calculate Loss (for both TRAIN and EVAL modes)\n",
    "  if mode != learn.ModeKeys.INFER:\n",
    "    onehot_labels = tf.one_hot(indices=tf.cast(integer_labels, tf.int32), depth=10)\n",
    "    loss = tf.losses.softmax_cross_entropy(logits=logits, onehot_labels=onehot_labels)\n",
    "    #loss = tf.nn.sparse_softmax_cross_entropy_with_logits(logits=logits, labels=[ cls_targets[0] ])\n",
    "\n",
    "  # Configure the Training Op (for TRAIN mode)\n",
    "  if mode == learn.ModeKeys.TRAIN:\n",
    "    train_op = tf.contrib.layers.optimize_loss(\n",
    "      loss=loss,\n",
    "      global_step=tf.contrib.framework.get_global_step(),\n",
    "      learning_rate=0.001,\n",
    "      #optimizer=\"SGD\")\n",
    "      optimizer=\"Adam\")\n",
    "\n",
    "  # Generate Predictions\n",
    "  predictions = {\n",
    "    \"classes\":       tf.argmax(input=logits, axis=1),\n",
    "    \"probabilities\": tf.nn.softmax(logits, name=\"softmax_tensor\"), \n",
    "    \"logits\":        logits,\n",
    "    #\"before_and_after\":( input_layer, logits ),\n",
    "    #\"before_and_after\":dict(input_layer=input_layer, logits=logits),\n",
    "  }\n",
    "    \n",
    "  # For OLD-STYLE inputs (needs wierd 'evaluate' metric)\n",
    "  if mode == model_fn_lib.ModeKeys.EVAL:  \n",
    "    predictions['input_grad'] = tf.gradients(loss, [input_layer])[0]\n",
    "    \n",
    "  # For NEW-STYLE inputs (can smuggle in extra parameters)\n",
    "  if type(features) is dict and 'fake_targets' in features: \n",
    "    loss_vs_target = tf.nn.sparse_softmax_cross_entropy_with_logits(\n",
    "        logits=logits, \n",
    "        labels=features['fake_targets']\n",
    "    )\n",
    "    predictions['image_gradient_vs_fake_target'] = tf.gradients(loss_vs_target, [input_layer])[0]\n",
    "\n",
    "  # Return a ModelFnOps object\n",
    "  return model_fn_lib.ModelFnOps(\n",
    "      mode=mode, predictions=predictions, loss=loss, train_op=train_op)"
   ]
  },
  {
   "cell_type": "code",
   "execution_count": null,
   "metadata": {
    "collapsed": false,
    "deletable": true,
    "editable": true
   },
   "outputs": [],
   "source": [
    "# Create the Estimator : https://www.tensorflow.org/extend/estimators\n",
    "mnist_classifier = learn.Estimator(\n",
    "      model_fn=cnn_model_fn, model_dir=\"mnist_model/cnn\")  # This is relative to the ipynb\n",
    "\n",
    "# Check : the checkpoints file in 'mnist_model/cnn' has filenames that are in same directory"
   ]
  },
  {
   "cell_type": "code",
   "execution_count": null,
   "metadata": {
    "collapsed": false
   },
   "outputs": [],
   "source": [
    "if False:\n",
    "    print( mnist_classifier.get_variable_names() )\n",
    "    #mnist_classifier.get_variable_value('conv2d/bias')\n",
    "\n",
    "    #mnist_classifier.save()\n",
    "\n",
    "    #tf.get_variable('input_layer')\n",
    "    print( tf.global_variables() )\n",
    "    print( tf.get_collection(tf.GraphKeys.GLOBAL_VARIABLES) )\n",
    "    print( [n.name for n in tf.get_default_graph().as_graph_def().node] )"
   ]
  },
  {
   "cell_type": "code",
   "execution_count": null,
   "metadata": {
    "collapsed": false,
    "deletable": true,
    "editable": true
   },
   "outputs": [],
   "source": [
    "# Load training and eval data\n",
    "mnist = learn.datasets.load_dataset(\"mnist\")\n",
    "\n",
    "train_data   = mnist.train.images  # Returns np.array\n",
    "train_labels = np.asarray(mnist.train.labels, dtype=np.int32)\n",
    "\n",
    "eval_data    = mnist.test.images  # Returns np.array\n",
    "eval_labels  = np.asarray(mnist.test.labels, dtype=np.int32)\n",
    "\n",
    "#print(eval_labels[7])\n",
    "print(\"Data Loaded\")\n",
    "\n",
    "\n",
    "#https://www.tensorflow.org/get_started/input_fn#passing_input_fn_data_to_your_model\n",
    "def mnist_batch_input_fn(dataset, batch_size=100, seed=None, num_epochs=1):  \n",
    "    # If seed is defined, this will shuffle data into batches\n",
    "    \n",
    "    if False:  # This is the idea (but numpy, rather than Tensors)\n",
    "        feature_dict = dict( images = dataset.images )\n",
    "        labels       = np.asarray( dataset.labels, dtype=np.int32)\n",
    "        return feature_dict, labels # but batch_size==EVERYTHING_AT_ONCE, unless we batch it up...\n",
    "        \n",
    "    np_labels = np.asarray( dataset.labels, dtype=np.int32)\n",
    "    \n",
    "    # Instead, build a Tensor dict \n",
    "    all_images = tf.constant( dataset.images, shape=dataset.images.shape, verify_shape=True )\n",
    "    all_labels = tf.constant( np_labels,      shape=np_labels.shape, verify_shape=True )\n",
    "\n",
    "    print(\"mnist_batch_input_fn sizing : \", \n",
    "          dataset.images.shape, \n",
    "          np.asarray( dataset.labels, dtype=np.int32).shape, \n",
    "          np.asarray( [dataset.labels], dtype=np.int32).T.shape,\n",
    "         )\n",
    "    \n",
    "    # And create a 'feeder' to batch up the data appropriately...\n",
    "    image, label = tf.train.slice_input_producer( [all_images, all_labels], \n",
    "                                                  num_epochs=num_epochs,\n",
    "                                                  shuffle=(seed is not None), seed=seed,\n",
    "                                                )\n",
    "    \n",
    "    dataset_dict = dict( images=image, labels=label ) # This becomes pluralized into batches by .batch()\n",
    "    \n",
    "    batch_dict = tf.train.batch( dataset_dict, batch_size,\n",
    "                                num_threads=1, capacity=batch_size*2, \n",
    "                                enqueue_many=False, shapes=None, dynamic_pad=False, \n",
    "                                allow_smaller_final_batch=False, \n",
    "                                shared_name=None, name=None)\n",
    "    \n",
    "    \n",
    "    batch_labels = batch_dict.pop('labels')\n",
    "    \n",
    "    # Return : \n",
    "    # 1) a mapping of feature columns to Tensors with the corresponding feature data, and \n",
    "    # 2) a Tensor containing labels\n",
    "    return batch_dict, batch_labels\n",
    "\n",
    "batch_size=100"
   ]
  },
  {
   "cell_type": "code",
   "execution_count": null,
   "metadata": {
    "collapsed": false,
    "deletable": true,
    "editable": true,
    "scrolled": true
   },
   "outputs": [],
   "source": [
    "if do_training:\n",
    "    # Set up logging for predictions\n",
    "    # Log the values in the \"Softmax\" tensor with label \"probabilities\"\n",
    "    tensors_to_log = {\"probabilities\": \"softmax_tensor\"}\n",
    "    logging_hook = tf.train.LoggingTensorHook( tensors=tensors_to_log, every_n_secs=20 ) #every_n_iter=1000 )\n",
    "\n",
    "    # Train the model\n",
    "    epochs=5\n",
    "\n",
    "    if False:\n",
    "        mnist_classifier.fit(\n",
    "          x=train_data,\n",
    "          y=train_labels,\n",
    "          batch_size=batch_size,\n",
    "          steps=train_labels.shape[0]/batch_size * epochs,\n",
    "          monitors=[logging_hook]\n",
    "        )\n",
    "\n",
    "    mnist_classifier.fit(\n",
    "        input_fn=lambda: mnist_batch_input_fn(mnist.train, batch_size=batch_size, seed=42, num_epochs=epochs), \n",
    "        #steps=train_labels.shape[0] / batch_size * epochs,\n",
    "        #monitors=[logging_hook],\n",
    "    )"
   ]
  },
  {
   "cell_type": "code",
   "execution_count": null,
   "metadata": {
    "collapsed": false,
    "deletable": true,
    "editable": true
   },
   "outputs": [],
   "source": [
    "if False: # This should log 'hi[1]' to the console (not to the Jupyter window...)\n",
    "    # http://stackoverflow.com/questions/37898478\n",
    "    #   /is-there-a-way-to-get-tensorflow-tf-print-output-to-appear-in-jupyter-notebook-o\n",
    "    a = tf.constant(1.0)\n",
    "    a = tf.Print(a, [a], 'hi')\n",
    "    sess = tf.Session()\n",
    "    a.eval(session=sess)"
   ]
  },
  {
   "cell_type": "code",
   "execution_count": null,
   "metadata": {
    "collapsed": false,
    "deletable": true,
    "editable": true,
    "scrolled": true
   },
   "outputs": [],
   "source": [
    "# Configure the accuracy metric for evaluation\n",
    "cnn_metrics = {\n",
    "  \"accuracy\":\n",
    "      learn.MetricSpec(\n",
    "          metric_fn=tf.metrics.accuracy, prediction_key=\"classes\"),\n",
    "}\n",
    "\n",
    "# Evaluate the model and print results\n",
    "#cnn_eval_results = mnist_classifier.evaluate( x=eval_data, y=eval_labels, metrics=cnn_metrics)\n",
    "\n",
    "cnn_eval_results = mnist_classifier.evaluate(\n",
    "    input_fn=lambda: mnist_batch_input_fn(mnist.test, batch_size=batch_size), \n",
    "    metrics=cnn_metrics,\n",
    "    #steps=eval_labels.shape[0]/batch_size,\n",
    ")\n",
    "\n",
    "print(cnn_eval_results)"
   ]
  },
  {
   "cell_type": "markdown",
   "metadata": {},
   "source": [
    "Ok, so the built Estimator gets ~99% accuracy on the test set in <20 secs on CPU."
   ]
  },
  {
   "cell_type": "markdown",
   "metadata": {},
   "source": [
    "### Adversarial Images\n",
    "\n",
    "Let's create some adversarial digits for MNIST that fool the original Estimator"
   ]
  },
  {
   "cell_type": "code",
   "execution_count": null,
   "metadata": {
    "collapsed": false
   },
   "outputs": [],
   "source": [
    "train_offset = 17\n",
    "\n",
    "image_orig = train_data[train_offset]     # This is a flat numpy array with an image in it\n",
    "label_orig = train_labels[train_offset]   # This the digit label for that image\n",
    "\n",
    "#label_target = (label_orig+1) % 10\n",
    "label_target = 3\n",
    "\n",
    "label_orig, label_target"
   ]
  },
  {
   "cell_type": "code",
   "execution_count": null,
   "metadata": {
    "collapsed": false
   },
   "outputs": [],
   "source": [
    "if False: # Works, but 'old-style'\n",
    "    #class_predictions = mnist_classifier.predict( x=np.array([image_orig]), batch_size=1, as_iterable=False)\n",
    "    class_predictions = mnist_classifier.predict( x=image_orig, as_iterable=False)\n",
    "    class_predictions['probabilities'][0]\n",
    "\n",
    "    #class_predictions = mnist_classifier.predict( x=image_orig, outputs=['probabilities'], as_iterable=False)\n",
    "    #class_predictions\n",
    "\n",
    "def mnist_direct_data_input_fn(features_np_dict, targets_np):\n",
    "    features_dict = { k:tf.constant(v) for k,v in features_np_dict.items()}\n",
    "    targets = None if targets_np is None else tf.constant(targets_np)\n",
    "\n",
    "    return features_dict, targets\n",
    "\n",
    "class_predictions_generator = mnist_classifier.predict( \n",
    "    input_fn=lambda: mnist_direct_data_input_fn(dict(images=np.array([image_orig])), None), \n",
    "    outputs=['probabilities'],\n",
    ")\n",
    "\n",
    "for class_predictions in class_predictions_generator:\n",
    "    break # Get the first one...\n",
    "\n",
    "class_predictions['probabilities']"
   ]
  },
  {
   "cell_type": "markdown",
   "metadata": {},
   "source": [
    "### Intuition behind 'gradient' for explicit inception version ..."
   ]
  },
  {
   "cell_type": "code",
   "execution_count": null,
   "metadata": {
    "collapsed": true
   },
   "outputs": [],
   "source": [
    "## Set the graph for the Inception model as the default graph,\n",
    "## so that all changes inside this with-block are done to that graph.\n",
    "#with model.graph.as_default():\n",
    "#    # Add a placeholder variable for the target class-number.\n",
    "#    # This will be set to e.g. 300 for the 'bookcase' class.\n",
    "#    pl_cls_target = tf.placeholder(dtype=tf.int32)\n",
    "#\n",
    "#    # Add a new loss-function. This is the cross-entropy.\n",
    "#    # See Tutorial #01 for an explanation of cross-entropy.\n",
    "#    loss = tf.nn.sparse_softmax_cross_entropy_with_logits(logits=y_logits, labels=[pl_cls_target])\n",
    "#\n",
    "#    # Get the gradient for the loss-function with regard to\n",
    "#    # the resized input image.\n",
    "#    gradient = tf.gradients(loss, resized_image)"
   ]
  },
  {
   "cell_type": "code",
   "execution_count": null,
   "metadata": {
    "collapsed": false
   },
   "outputs": [],
   "source": [
    "# This is the way to do it 'OLD style', where we smuggle out the information during an EVALUATE() call\n",
    "if False:\n",
    "    # FIGURING-IT-OUT STEP : WORKS\n",
    "    def metric_accuracy(cls_targets, predictions):\n",
    "      return tf.metrics.accuracy(cls_targets, predictions)\n",
    "\n",
    "    # FIGURING-IT-OUT STEP : WORKS\n",
    "    def metric_accuracy_here(labels, predictions, weights=None, metrics_collections=None, updates_collections=None, name=None):\n",
    "      if labels.dtype != predictions.dtype:\n",
    "        predictions = tf.cast(predictions, labels.dtype)\n",
    "      is_correct = tf.to_float(tf.equal(predictions, labels))\n",
    "      return tf.metrics.mean(is_correct, weights, metrics_collections, updates_collections, name or 'accuracy')\n",
    "\n",
    "    # FIGURING-IT-OUT STEP : WORKS\n",
    "    def metric_mean_here(labels, predictions, weights=None, metrics_collections=None, updates_collections=None, name=None):\n",
    "      return tf.metrics.mean(labels, weights, metrics_collections, updates_collections, name or 'gradient_mean')\n",
    "\n",
    "    # FINALLY! :: WORKS\n",
    "    def metric_concat_here(labels, predictions, weights=None, metrics_collections=None, updates_collections=None, name=None):\n",
    "      return tf.contrib.metrics.streaming_concat(labels, axis=0, max_size=None, \n",
    "                                         metrics_collections=metrics_collections, \n",
    "                                         updates_collections=updates_collections, \n",
    "                                         name = name or 'gradient_concat')\n",
    "\n",
    "    model_gradient = {\n",
    "    #  \"accuracy\": learn.MetricSpec(metric_fn=tf.metrics.accuracy,  prediction_key=\"classes\"), # WORKS\n",
    "    #  \"accuracy\": learn.MetricSpec(metric_fn=metric_accuracy,      prediction_key=\"classes\"), # WORKS\n",
    "    #  \"accuracy\": learn.MetricSpec(metric_fn=metric_accuracy_here, prediction_key=\"classes\"), # WORKS\n",
    "    #  \"accuracy\": learn.MetricSpec(metric_fn=metric_mean_here,     prediction_key=\"classes\"), # WORKS\n",
    "      \"gradient\": learn.MetricSpec(metric_fn=metric_concat_here,   prediction_key=\"input_grad\"), # WORKS!   \n",
    "    }\n",
    "\n",
    "    # Evaluate the model and print results  OLD-STYLE\n",
    "    cnn_gradient = mnist_classifier.evaluate( \n",
    "        x=np.array([ image_orig ], dtype='float32'), y=np.array([ label_target ], dtype='int32'), \n",
    "        batch_size=1,\n",
    "        #input_fn = (lambda: (np.array([ image_orig ], dtype='float32'), np.array([7], dtype='int32'))),\n",
    "        metrics=model_gradient)\n",
    "\n",
    "    #cnn_gradient = mnist_classifier.evaluate( x=image_orig, y=np.int32(7), metrics=model_gradient)\n",
    "\n",
    "    cnn_gradient['gradient'].shape"
   ]
  },
  {
   "cell_type": "code",
   "execution_count": null,
   "metadata": {
    "collapsed": false
   },
   "outputs": [],
   "source": [
    "# NEW-STYLE : We can get the data from a .PREDICT() directly (outputs=[xyz] is passed through)\n",
    "\n",
    "def mnist_direct_data_input_fn(features_np_dict, targets_np):\n",
    "    features_dict = { k:tf.constant(v) for k,v in features_np_dict.items()}\n",
    "    targets = None if targets_np is None else tf.constant(targets_np)\n",
    "    return features_dict, targets\n",
    "\n",
    "tensor_prediction_generator = mnist_classifier.predict( \n",
    "    input_fn=lambda: mnist_direct_data_input_fn(\n",
    "        dict(\n",
    "            images=np.array([ image_orig ]),\n",
    "            fake_targets=np.array([ label_target ], dtype=np.int),\n",
    "        ), None), \n",
    "    outputs=['image_gradient_vs_fake_target'],\n",
    ")\n",
    "\n",
    "for tensor_predictions in tensor_prediction_generator:\n",
    "    break # Get the first one...\n",
    "\n",
    "grads = tensor_predictions['image_gradient_vs_fake_target']\n",
    "grads.shape,grads.min(),grads.max()"
   ]
  },
  {
   "cell_type": "code",
   "execution_count": null,
   "metadata": {
    "collapsed": false
   },
   "outputs": [],
   "source": [
    "# Plot the gradients\n",
    "plt.figure(figsize=(12,3))\n",
    "for i in range(1):\n",
    "    plt.subplot(1, 10, i+1)\n",
    "    plt.imshow(((grads+8.)/11.).reshape((28, 28)), cmap='gray', interpolation='nearest')\n",
    "    plt.axis('off')"
   ]
  },
  {
   "cell_type": "code",
   "execution_count": null,
   "metadata": {
    "collapsed": false
   },
   "outputs": [],
   "source": [
    "def find_adversarial_noise(image_np, cls_target, model, \n",
    "                           pixel_max=255, noise_limit=None, \n",
    "                           required_score=0.99, max_iterations=50):\n",
    "    \"\"\"\n",
    "    Find the noise that must be added to the given image so\n",
    "    that it is classified as the target-class by the given model.\n",
    "    \n",
    "    image_np: numpy image in correct 'picture-like' format \n",
    "    cls_target: Target class-number (integer between 0-n_classes).\n",
    "    noise_limit: Limit for pixel-values in the noise (scaled for 0...255 image)\n",
    "    required_score: Stop when target-class 'probabilty' reaches this.\n",
    "    max_iterations: Max number of optimization iterations to perform.\n",
    "    \"\"\"\n",
    "\n",
    "    # Initialize the noise to zero.\n",
    "    noise = np.zeros_like( image_np )\n",
    "\n",
    "    # Perform a number of optimization iterations to find\n",
    "    # the noise that causes mis-classification of the input image.\n",
    "    for i in range(max_iterations):\n",
    "        print(\"Iteration:\", i)\n",
    "\n",
    "        # The noisy image is just the sum of the input image and noise.\n",
    "        noisy_image = image_np + noise\n",
    "        \n",
    "        # Ensure the pixel-values of the noisy image are between\n",
    "        # 0 and pixel_max like a real image. If we allowed pixel-values\n",
    "        # outside this range then maybe the mis-classification would\n",
    "        # be due to this 'illegal' input breaking the Inception model.\n",
    "        noisy_image = np.clip(a=noisy_image, a_min=0.0, a_max=float(pixel_max))\n",
    "        \n",
    "        # Calculate the predicted class-scores as well as the gradient.\n",
    "        #pred, grad = session.run([y_pred, gradient], feed_dict=feed_dict)\n",
    "         \n",
    "        tensor_prediction_generator = model.predict( \n",
    "            input_fn=lambda: mnist_direct_data_input_fn(\n",
    "                dict(\n",
    "                    images=np.array([ noisy_image ]),\n",
    "                    fake_targets=np.array([ cls_target ], dtype=np.int),\n",
    "                ), None), \n",
    "            outputs=['probabilities','logits','image_gradient_vs_fake_target'],\n",
    "        )\n",
    "\n",
    "        for tensor_predictions in tensor_prediction_generator:\n",
    "            break # Get the first one...\n",
    "\n",
    "        #tensor_predictions['image_gradient_vs_fake_target'].shape            \n",
    "        \n",
    "        pred   = tensor_predictions['probabilities']\n",
    "        logits = tensor_predictions['logits']\n",
    "        grad   = tensor_predictions['image_gradient_vs_fake_target']\n",
    "        \n",
    "        print( ','.join([ (\"%.4f\" % p) for p in pred ]))\n",
    "        #print(pred.shape, grad.shape)\n",
    "        \n",
    "        # The scores (probabilities) for the source and target classes.\n",
    "        # score_source = pred[cls_source]\n",
    "        score_target = pred[cls_target]\n",
    "\n",
    "        # The gradient now tells us how much we need to change the\n",
    "        # noisy input image in order to move the predicted class\n",
    "        # closer to the desired target-class.\n",
    "\n",
    "        # Calculate the max of the absolute gradient values.\n",
    "        # This is used to calculate the step-size.\n",
    "        grad_absmax = np.abs(grad).max()\n",
    "        \n",
    "        # If the gradient is very small then use a lower limit,\n",
    "        # because we will use it as a divisor.\n",
    "        if grad_absmax < 1e-10:\n",
    "            grad_absmax = 1e-10\n",
    "\n",
    "        # Calculate the step-size for updating the image-noise.\n",
    "        # This ensures that at least one pixel colour is changed by 7 out of 255\n",
    "        # Recall that pixel colours can have 255 different values.\n",
    "        # This step-size was found to give fast convergence.\n",
    "        step_size = 7/255.0*pixel_max / grad_absmax\n",
    "\n",
    "        # Print the score etc. for the source-class.\n",
    "        #msg = \"Source score: {0:>7.2%}, class-number: {1:>4}, class-name: {2}\"\n",
    "        #print(msg.format(score_source, cls_source, name_source))\n",
    "\n",
    "        # Print the score etc. for the target-class.\n",
    "        print(\"Target class (%d) score: %7.4f\" % (cls_target, score_target, ))\n",
    "\n",
    "        # Print statistics for the gradient.\n",
    "        msg = \"Gradient min: {0:>9.6f}, max: {1:>9.6f}, stepsize: {2:>9.6f}\"\n",
    "        print(msg.format(grad.min(), grad.max(), step_size))\n",
    "        \n",
    "        # Newline.\n",
    "        print()\n",
    "        \n",
    "        # If the score for the target-class is not high enough.\n",
    "        if score_target < required_score:\n",
    "            # Update the image-noise by subtracting the gradient\n",
    "            # scaled by the step-size.\n",
    "            noise -= step_size * grad\n",
    "\n",
    "            # Ensure the noise is within the desired range.\n",
    "            # This avoids distorting the image too much.\n",
    "            if noise_limit is not None:\n",
    "                noise = np.clip(a     =  noise, \n",
    "                                a_min = -noise_limit/255.0*pixel_max, \n",
    "                                a_max =  noise_limit/255.0*pixel_max)\n",
    "            \n",
    "        else:\n",
    "            # Abort the optimization because the score is high enough.\n",
    "            break\n",
    "\n",
    "    return (\n",
    "        noisy_image, noise, score_target, logits\n",
    "        #name_source, name_target, \\\n",
    "        #score_source, score_source_org, score_target\n",
    "    )\n"
   ]
  },
  {
   "cell_type": "code",
   "execution_count": null,
   "metadata": {
    "collapsed": false
   },
   "outputs": [],
   "source": [
    "np.min(image_orig), np.max(image_orig)"
   ]
  },
  {
   "cell_type": "code",
   "execution_count": null,
   "metadata": {
    "collapsed": false
   },
   "outputs": [],
   "source": [
    "print(label_orig, label_target)\n",
    "\n",
    "image_orig_sq = np.reshape(image_orig, (28,28,1))\n",
    "res = find_adversarial_noise(image_orig_sq, label_target, mnist_classifier, \n",
    "                         pixel_max=1.0,   # for 0.0 ... 1.0 images (MNIST)\n",
    "                         #pixel_max=255.0, # for 0..255 images (ImageNet)\n",
    "                         #noise_limit=7.0,  \n",
    "                         required_score=0.99, max_iterations=50)\n",
    "adversarial_image, adversarial_noise, adversarial_score, adversarial_logits = res\n",
    "\n",
    "# Plot the image, alterted image and noise\n",
    "plt.figure(figsize=(12,3))\n",
    "for i,im in enumerate( [image_orig, adversarial_image, adversarial_noise] ):\n",
    "    plt.subplot(1, 10, 1+i)\n",
    "    plt.imshow(im.reshape((28, 28)), cmap='gray', interpolation='nearest')\n",
    "    plt.axis('off')"
   ]
  },
  {
   "cell_type": "code",
   "execution_count": null,
   "metadata": {
    "collapsed": true
   },
   "outputs": [],
   "source": [
    "# tf.getDefaultGraph().finalize()"
   ]
  },
  {
   "cell_type": "markdown",
   "metadata": {
    "collapsed": true,
    "deletable": true,
    "editable": true
   },
   "source": [
    "### Next Steps\n",
    "\n",
    "Let's :\n",
    "\n",
    "*  go through the training set and store the logits for [the valid?] training examples;\n",
    "\n",
    "*  build an AutoEncoder on the logits, which minimises reconstruction error;\n",
    "\n",
    "*  histogram the reconstruction error to find a bound above which we can reject an input image;\n",
    "\n",
    "*  attempt to create adversarial examples on an updated network that includes the autoencoder bound as a gating function on the rest of the outputs;\n",
    "\n",
    "*  create an infoGAN network for MNIST that allows us to create digits that are 'between' two classes;\n",
    "\n",
    "*  score the reconstruction error of the between images to look at the rejection regions (which hopefully isolate the islands of acceptance from one another)"
   ]
  },
  {
   "cell_type": "markdown",
   "metadata": {
    "collapsed": true
   },
   "source": [
    "#### Get logit representation for all training examples"
   ]
  },
  {
   "cell_type": "code",
   "execution_count": null,
   "metadata": {
    "collapsed": false
   },
   "outputs": [],
   "source": [
    "# Evaluate the model and gather the results.  NB: no seed, since we want to preserve the ordering\n",
    "\n",
    "# Predictions take ~ 60secs\n",
    "\n",
    "predictions = mnist_classifier.predict( \n",
    "    input_fn=lambda: mnist_batch_input_fn(mnist.train, batch_size=batch_size),\n",
    "    outputs=['logits'],\n",
    "    as_iterable=True)\n",
    "\n",
    "train_data_logits = np.array([ p['logits'] for p in predictions ])\n",
    "\n",
    "\n",
    "predictions = mnist_classifier.predict( \n",
    "    input_fn=lambda: mnist_batch_input_fn(mnist.test, batch_size=batch_size),\n",
    "    outputs=['logits'],\n",
    "    as_iterable=True)\n",
    "eval_data_logits  = np.array([ p['logits'] for p in predictions ])\n",
    "\n",
    "train_data_logits.shape, eval_data_logits.shape"
   ]
  },
  {
   "cell_type": "code",
   "execution_count": null,
   "metadata": {
    "collapsed": true
   },
   "outputs": [],
   "source": [
    "# Optionally save the logits for quicker iteration...\n",
    "logits_filename = './mnist_model/logits.pkl'\n",
    "\n",
    "if not tf.gfile.Exists(logits_filename):\n",
    "    logits_saver = ( train_data_logits, train_labels, eval_data_logits, eval_labels )\n",
    "    pickle.dump(logits_saver, open(logits_filename,'wb'), protocol=pickle.HIGHEST_PROTOCOL)"
   ]
  },
  {
   "cell_type": "markdown",
   "metadata": {},
   "source": [
    "#### Explore the logit representations"
   ]
  },
  {
   "cell_type": "code",
   "execution_count": null,
   "metadata": {
    "collapsed": false
   },
   "outputs": [],
   "source": [
    "# Load the logits \n",
    "if True:\n",
    "    res = pickle.load( open(logits_filename, 'rb'), encoding='iso-8859-1')\n",
    "    train_data_logits, train_labels, eval_data_logits, eval_labels = res     "
   ]
  },
  {
   "cell_type": "code",
   "execution_count": null,
   "metadata": {
    "collapsed": false
   },
   "outputs": [],
   "source": [
    "# Show an example #s, target_classes, and logits\n",
    "print(\"            %s\" % ( ', '.join([\"%7s\" % l for l in range(10)]),) )\n",
    "for train_data_example in [99, 98, 84]: # all have a true label of '6'\n",
    "    print(\"#%4d : '%d'  [ %s ]\" % (\n",
    "                    train_data_example,\n",
    "                    train_labels[train_data_example], \n",
    "                     ', '.join([\"%+7.3f\" % l for l in train_data_logits[train_data_example,:]]),\n",
    "         ))"
   ]
  },
  {
   "cell_type": "code",
   "execution_count": null,
   "metadata": {
    "collapsed": false
   },
   "outputs": [],
   "source": [
    "# Ok, so how about the reconstruction error for the training logits that it gets wrong?\n",
    "\n",
    "# Create an indicator function that is 1 iff the label doesn't match the best logit answer\n",
    "train_labels_predicted = np.argmax( train_data_logits, axis=1 )\n",
    "print(\"train_labels_predicted.shape     :\", train_labels_predicted.shape)\n",
    "print( 'predicted : ',train_labels_predicted[80:100], '\\nactual    : ', train_labels[80:100] )\n",
    "\n",
    "#train_error_indices = np.where( train_labels_predicted == train_labels, 0, 1)\n",
    "train_error_indices = train_labels_predicted != train_labels\n",
    "print( \"Total # of bad training examples : \", np.sum( train_error_indices ) )  # [80:90]\n",
    "\n",
    "# Gather the 'badly trained logits'\n",
    "train_error_logits = train_data_logits[train_error_indices]\n",
    "print(\"train_error_logits.shape         :\", train_error_logits.shape)\n",
    "\n",
    "train_valid_indices = train_labels_predicted == train_labels\n",
    "train_valid_logits  = train_data_logits[train_valid_indices]"
   ]
  },
  {
   "cell_type": "code",
   "execution_count": null,
   "metadata": {
    "collapsed": false
   },
   "outputs": [],
   "source": [
    "# Histogram various pre-processings of the input logits\n",
    "\n",
    "#def n(x): return x\n",
    "#def n(x): return ( (x - x.mean(axis=1, keepdims=True))/x.std(axis=1, keepdims=True)  )\n",
    "#def n(x): return ((x - x.min(axis=1, keepdims=True))/(x.max(axis=1, keepdims=True) - x.min(axis=1, keepdims=True) + 0.0001))\n",
    "#def n(x): return np.fabs(x)\n",
    "\n",
    "def n(x):\n",
    "  len_em = len_except_max = (x.shape[1]-1)\n",
    "  x_max = x.max(axis=1, keepdims=True)\n",
    "  x_argmax = x.argmax(axis=1)\n",
    "  mean_em  = (x.sum(axis=1, keepdims=True) - x_max) / len_em\n",
    "  sumsq_em = np.sum(np.square(x - mean_em), axis=1, keepdims=True)  -  np.square(x_max - mean_em)\n",
    "  std_em  = np.sqrt( sumsq_em / len_em )\n",
    "  y = (x - mean_em) / std_em\n",
    "  y = np.clip(y, -4.0, +4.0)\n",
    "  y[np.arange(x.shape[0]), x_argmax]=5.0\n",
    "  return y\n",
    "\n",
    "count, bins, patches = plt.hist(n(train_valid_logits).flatten(), 50, normed=1, facecolor='green', alpha=1.0)\n",
    "count, bins, patches = plt.hist(n(train_error_logits).flatten(), 50, normed=1, facecolor='blue', alpha=0.5)\n",
    "\n",
    "plt.xlabel('logit')\n",
    "plt.ylabel('density')\n",
    "#plt.title(r'$\\mathrm{Histogram\\ of\\ IQ:}\\ \\mu=100,\\ \\sigma=15$')\n",
    "#plt.axis([-4, 6, 0, 0.8])\n",
    "plt.grid(True)\n",
    "\n",
    "plt.show()"
   ]
  },
  {
   "cell_type": "markdown",
   "metadata": {},
   "source": [
    "### Build an autoencoder for the preprocessed logits\n",
    "Let's build an autoencoder 'regression' model with a hidden layer 'fewer' units"
   ]
  },
  {
   "cell_type": "code",
   "execution_count": null,
   "metadata": {
    "collapsed": false
   },
   "outputs": [],
   "source": [
    "def autoencoder_model_fn(features, unused_labels, mode):\n",
    "  logits_dim = 10\n",
    "  #hidden_dim = logits_dim\n",
    "  hidden_dim = int(logits_dim*.75)\n",
    "\n",
    "  input_layer = features['logits']  \n",
    "\n",
    "  # One-hot on the input logit that's > 4.5\n",
    "  one_hot = tf.div( tf.add( tf.sign( tf.subtract(input_layer, 4.5) ), 1.0), 2.0)\n",
    "  one_hot = tf.Print(one_hot, [one_hot], message=\"one_hot: \", first_n=1, summarize=30 )\n",
    "\n",
    "  # This summary is the inputs with the 'top-1' set to zero\n",
    "  input_remainder = tf.subtract( input_layer, tf.multiply(one_hot, 5.0) )\n",
    "\n",
    "  input_summary = tf.layers.dense(inputs=input_layer, units=int(logits_dim*.5), activation=tf.nn.relu)\n",
    "    \n",
    "  combined = tf.concat( [input_summary, one_hot], 1)\n",
    "    \n",
    "  # Encoder Dense Layer\n",
    "    \n",
    "  #dense1 = tf.layers.dense(inputs=input_layer, units=hidden_dim, activation=tf.nn.relu)\n",
    "  #dense1 = tf.layers.dense(inputs=input_layer, units=logits_dim, activation=tf.nn.relu)\n",
    "  #dense = tf.layers.dense(inputs=input_layer, units=hidden_dim, activation=tf.nn.elu)  # ELU!\n",
    "\n",
    "  #dense1 = tf.layers.dense(inputs=input_layer, units=hidden_dim, activation=tf.nn.tanh)\n",
    "  #dense1 = tf.layers.dense(inputs=input_layer, units=logits_dim, activation=tf.nn.tanh)\n",
    "  #dense1 = tf.layers.dense(inputs=combined, units=logits_dim, activation=tf.nn.tanh)\n",
    "\n",
    "  #dense2 = tf.layers.dense(inputs=dense1, units=hidden_dim, activation=tf.nn.tanh)\n",
    "  #dense2 = tf.layers.dense(inputs=dense1, units=logits_dim*2, activation=tf.nn.tanh)\n",
    "  #dense2 = tf.layers.dense(inputs=dense1, units=logits_dim, activation=tf.nn.tanh)\n",
    "\n",
    "  #dense2 = dense1\n",
    "  dense2 = combined\n",
    "    \n",
    "  # Add dropout operation; 0.6 probability that element will be kept\n",
    "  #dropout = tf.layers.dropout(\n",
    "  #    inputs=dense2, rate=0.9, training=mode == learn.ModeKeys.TRAIN)\n",
    "\n",
    "  # Decoder Dense Layer\n",
    "\n",
    "  #output_layer = tf.layers.dense(inputs=dropout, units=logits_dim)\n",
    "  output_layer = tf.layers.dense(inputs=dense2, units=logits_dim)  # Linear activation\n",
    "\n",
    "  loss = None\n",
    "  train_op = None\n",
    "\n",
    "  ## Calculate Loss (for both TRAIN and EVAL modes)\n",
    "  #if mode != learn.ModeKeys.INFER:\n",
    "  #  loss = tf.losses.mean_squared_error( input_layer, output_layer )\n",
    "\n",
    "  if False:\n",
    "      loss = tf.losses.mean_squared_error( input_layer, output_layer )\n",
    "\n",
    "  if True:\n",
    "      weighted_diff = tf.multiply( tf.subtract(1.0, one_hot), tf.subtract(input_layer, output_layer) )\n",
    "      #weighted_diff = tf.multiply( 1.0, tf.subtract(input_layer, output_layer) )\n",
    "      loss = tf.reduce_mean( tf.multiply (weighted_diff, weighted_diff) )\n",
    "\n",
    "  # Configure the Training Op (for TRAIN mode)\n",
    "  if mode == learn.ModeKeys.TRAIN:\n",
    "    train_op = tf.contrib.layers.optimize_loss(\n",
    "        loss=loss,\n",
    "        global_step=tf.contrib.framework.get_global_step(),\n",
    "        learning_rate=0.001,\n",
    "        optimizer=\"Adam\")\n",
    "\n",
    "  # Generate Predictions\n",
    "  predictions = {\n",
    "      \"mse\": loss,\n",
    "      \"regenerated\":output_layer, \n",
    "      \"gradient\": tf.gradients(loss, input_layer),\n",
    "  }\n",
    "\n",
    "  # Return a ModelFnOps object\n",
    "  return model_fn_lib.ModelFnOps(\n",
    "      mode=mode, predictions=predictions, loss=loss, train_op=train_op)"
   ]
  },
  {
   "cell_type": "code",
   "execution_count": null,
   "metadata": {
    "collapsed": false
   },
   "outputs": [],
   "source": [
    "mnist_autoencoder = learn.Estimator(\n",
    "      model_fn=autoencoder_model_fn, model_dir=\"mnist_model/autoencoder\")"
   ]
  },
  {
   "cell_type": "code",
   "execution_count": null,
   "metadata": {
    "collapsed": true
   },
   "outputs": [],
   "source": [
    "def mnist_logit_batch_input_fn(logits, batch_size=100, seed=None, num_epochs=1):  \n",
    "    # If seed is defined, this will shuffle data into batches\n",
    "\n",
    "    all_logits  = tf.constant( logits, shape=logits.shape, verify_shape=True )\n",
    "    fake_labels = tf.constant( np.zeros((logits.shape[0],)) )\n",
    "    \n",
    "    print(\"mnist_logit_batch_input_fn sizing : \", all_logits.shape, )\n",
    "    \n",
    "    # And create a 'feeder' to batch up the data appropriately...\n",
    "    logit, label = tf.train.slice_input_producer( [ all_logits, fake_labels ], \n",
    "                                           num_epochs=num_epochs,\n",
    "                                           shuffle=(seed is not None), seed=seed,\n",
    "                                         )\n",
    "    \n",
    "    dataset_dict = dict( logits=logit, labels=label ) # This becomes pluralized into batches by .batch()\n",
    "    \n",
    "    batch_dict = tf.train.batch( dataset_dict, batch_size,\n",
    "                                num_threads=1, capacity=batch_size*2, \n",
    "                                enqueue_many=False, shapes=None, dynamic_pad=False, \n",
    "                                allow_smaller_final_batch=False, \n",
    "                                shared_name=None, name=None)\n",
    "\n",
    "    batch_labels = batch_dict.pop('labels')\n",
    "    #batch_labels = batch_dict.pop('logits')\n",
    "    \n",
    "    # Return : \n",
    "    # 1) a mapping of feature columns to Tensors with the corresponding feature data, and \n",
    "    # 2) fake_labels (all 0)\n",
    "    return batch_dict, batch_labels\n",
    "\n",
    "autoenc_batch_size, autoenc_epochs = 100, 20"
   ]
  },
  {
   "cell_type": "code",
   "execution_count": null,
   "metadata": {
    "collapsed": false
   },
   "outputs": [],
   "source": [
    "# Fit the autoencoder to the logits\n",
    "\n",
    "mnist_autoencoder.fit(\n",
    "    input_fn=lambda: mnist_logit_batch_input_fn( n(train_valid_logits), #train_data_logits, \n",
    "                                                batch_size=autoenc_batch_size, \n",
    "                                                seed=42, \n",
    "                                                num_epochs=autoenc_epochs), \n",
    ")\n"
   ]
  },
  {
   "cell_type": "markdown",
   "metadata": {},
   "source": [
    "*  n/2 hidden INFO:tensorflow:Saving checkpoints for 25000 into mnist_model/autoencoder/model.ckpt.\n",
    "*  n/2 hidden INFO:tensorflow:Loss for final step: 1.2686.\n",
    "\n",
    "*  2xReLU INFO:tensorflow:Saving checkpoints for 25000 into mnist_model/autoencoder/model.ckpt.\n",
    "*  2xReLU INFO:tensorflow:Loss for final step: 1.47784e-05.\n",
    "\n",
    "*  ELU+ReLU INFO:tensorflow:Saving checkpoints for 5000 into mnist_model/autoencoder/model.ckpt.\n",
    "*  ELU+ReLU INFO:tensorflow:Loss for final step: 0.00331942."
   ]
  },
  {
   "cell_type": "code",
   "execution_count": null,
   "metadata": {
    "collapsed": false
   },
   "outputs": [],
   "source": [
    "# Configure the accuracy metric for evaluation\n",
    "def metric_mean_here(labels, predictions, weights=None, metrics_collections=None, updates_collections=None, name=None):\n",
    "  return tf.metrics.mean(labels, weights, metrics_collections, updates_collections, name or 'gradient_mean')\n",
    "\n",
    "autoenc_metrics = {\n",
    "  \"loss\":learn.MetricSpec(metric_fn=metric_mean_here, prediction_key=\"mse\"),\n",
    "}\n",
    "\n",
    "# Evaluate the model and print results\n",
    "#autoencoder_eval_results = mnist_autoencoder.evaluate( x=eval_data_logits, y=eval_data_logits, metrics=auto_metrics)\n",
    "autoencoder_train_results = mnist_autoencoder.evaluate( \n",
    "    input_fn=lambda: mnist_logit_batch_input_fn(n(train_valid_logits), # train_data_logits, \n",
    "                                                batch_size=train_valid_logits.shape[0], \n",
    "                                               ), \n",
    "    metrics=autoenc_metrics)\n",
    "\n",
    "print(autoencoder_train_results)\n",
    "\n",
    "autoencoder_eval_results = mnist_autoencoder.evaluate( \n",
    "    input_fn=lambda: mnist_logit_batch_input_fn(n(eval_data_logits), \n",
    "                                                batch_size=eval_data_logits.shape[0], \n",
    "                                               ), \n",
    "    metrics=autoenc_metrics)\n",
    "\n",
    "print(autoencoder_eval_results)"
   ]
  },
  {
   "cell_type": "markdown",
   "metadata": {},
   "source": [
    "*   {'loss': 1.1115935e-06, 'global_step': 18250} => This autoencoder thing works"
   ]
  },
  {
   "cell_type": "code",
   "execution_count": null,
   "metadata": {
    "collapsed": false
   },
   "outputs": [],
   "source": [
    "if False:  # Double up train_error_logits to check whether mean() is working\n",
    "    train_error_logits = np.vstack( [train_error_logits,train_error_logits] )\n",
    "    train_error_logits.shape"
   ]
  },
  {
   "cell_type": "code",
   "execution_count": null,
   "metadata": {
    "collapsed": false
   },
   "outputs": [],
   "source": [
    "# What is the mean reconstruction error for the incorrectly trained digits?\n",
    "\n",
    "autoencoder_error_results = mnist_autoencoder.evaluate( \n",
    "    input_fn=lambda: mnist_logit_batch_input_fn(n(train_error_logits), \n",
    "                                                batch_size=train_error_logits.shape[0], \n",
    "                                               ), \n",
    "    metrics=autoenc_metrics)\n",
    "\n",
    "print(autoencoder_error_results)"
   ]
  },
  {
   "cell_type": "code",
   "execution_count": null,
   "metadata": {
    "collapsed": false
   },
   "outputs": [],
   "source": [
    "adversarial_logits"
   ]
  },
  {
   "cell_type": "code",
   "execution_count": null,
   "metadata": {
    "collapsed": false
   },
   "outputs": [],
   "source": [
    "autoencoder_adversarial_results = mnist_autoencoder.evaluate( \n",
    "    input_fn=lambda: mnist_logit_batch_input_fn(n(np.array([\n",
    "                    #train_data_logits[84],\n",
    "                    adversarial_logits,\n",
    "                ])),   \n",
    "                                                batch_size=1, \n",
    "                                               ), \n",
    "    metrics=autoenc_metrics)\n",
    "\n",
    "print(autoencoder_adversarial_results)"
   ]
  },
  {
   "cell_type": "code",
   "execution_count": null,
   "metadata": {
    "collapsed": false
   },
   "outputs": [],
   "source": [
    "?tf.reduce_sum()"
   ]
  },
  {
   "cell_type": "code",
   "execution_count": null,
   "metadata": {
    "collapsed": true
   },
   "outputs": [],
   "source": []
  },
  {
   "cell_type": "code",
   "execution_count": null,
   "metadata": {
    "collapsed": true
   },
   "outputs": [],
   "source": []
  }
 ],
 "metadata": {
  "kernelspec": {
   "display_name": "Python 3",
   "language": "python",
   "name": "python3"
  },
  "language_info": {
   "codemirror_mode": {
    "name": "ipython",
    "version": 3
   },
   "file_extension": ".py",
   "mimetype": "text/x-python",
   "name": "python",
   "nbconvert_exporter": "python",
   "pygments_lexer": "ipython3",
   "version": "3.5.2"
  }
 },
 "nbformat": 4,
 "nbformat_minor": 2
}