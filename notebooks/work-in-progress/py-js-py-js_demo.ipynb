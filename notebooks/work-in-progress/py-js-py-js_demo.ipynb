{
 "cells": [
  {
   "cell_type": "markdown",
   "metadata": {},
   "source": [
    "# Demo of JS &harr; Python communication"
   ]
  },
  {
   "cell_type": "code",
   "execution_count": null,
   "metadata": {
    "collapsed": true
   },
   "outputs": [],
   "source": [
    "from IPython.display import HTML"
   ]
  },
  {
   "cell_type": "code",
   "execution_count": null,
   "metadata": {
    "collapsed": false
   },
   "outputs": [],
   "source": [
    "js=\"\"\"\n",
    "alert(\"Hello Javascript (created in python string\")\n",
    "// Lots of pre-written stuff could go here - all generated from Python\n",
    "\"\"\"\n",
    "\n",
    "# This is Python, printing out the javascript into the browser window\n",
    "HTML('<script type=\"text/Javascript\">%s</script>' % (js,))\n",
    "\n",
    "# Nothing will appear be 'output' - but an annoying pop-up will..."
   ]
  },
  {
   "cell_type": "markdown",
   "metadata": {},
   "source": [
    "### Create an HTML placeholder "
   ]
  },
  {
   "cell_type": "code",
   "execution_count": null,
   "metadata": {
    "collapsed": false
   },
   "outputs": [],
   "source": [
    "html=\"\"\"\n",
    "<input type=\"text\" id=\"textinput\" value=\"12\"/>\n",
    "<input type=\"submit\" id=\"textsubmit\">\n",
    "\"\"\"\n",
    "\n",
    "# This is Python, printing out the javascript into the browser window\n",
    "HTML(html)"
   ]
  },
  {
   "cell_type": "markdown",
   "metadata": {},
   "source": [
    "### Create a Python function and Hook up the interactivity"
   ]
  },
  {
   "cell_type": "code",
   "execution_count": null,
   "metadata": {
    "collapsed": false
   },
   "outputs": [],
   "source": [
    "def recalculate_cell_in_python(v):\n",
    "    if v % 2 == 0: return v/2\n",
    "    return v*3+1\n",
    "\n",
    "# Lots more Python could go here\n",
    "# You can also have side-effects, etc\n",
    "\n",
    "# This python import will be 'visible' for the python code executed by the javascript callback\n",
    "# because that happens 'afterwards' as far as the Python kernel is concerned\n",
    "import json \n",
    "\n",
    "js=\"\"\"\n",
    "var kernel = IPython.notebook.kernel;\n",
    "$('#textsubmit').off('click').on('click', function(e) {\n",
    "\n",
    "    var javascript_cell_value = $('#textinput').val();\n",
    "\n",
    "    var cmd=[\n",
    "      'python_new_value = recalculate_cell_in_python('+javascript_cell_value+')',\n",
    "      'json.dumps( dict( v=python_new_value ) )'\n",
    "    ].join(';');\n",
    "\n",
    "    kernel.execute(cmd, {iopub: {output: handle_python_output}}, {silent:false});\n",
    "\n",
    "    function handle_python_output(msg) {\n",
    "      //console.log(msg);\n",
    "      if( msg.msg_type == \"error\" ) {\n",
    "        console.log(\"Javascript received Python error : \", msg.content);\n",
    "      }\n",
    "      else {  // execute_result\n",
    "        var res_str = msg.content.data[\"text/plain\"];\n",
    "        // Take off surrounding quotes\n",
    "        var res=JSON.parse( res_str.replace(/^['\"](.*)['\"]$/, \"$1\") ); \n",
    "        $('#textinput').val( res.v );\n",
    "      }\n",
    "    }\n",
    "    \n",
    "    return false;\n",
    "});\n",
    "\"\"\"\n",
    "\n",
    "# Again,this is a Python cell, printing out the javascript into the browser window\n",
    "HTML('<script type=\"text/Javascript\">%s</script>' % (js,))"
   ]
  },
  {
   "cell_type": "markdown",
   "metadata": {},
   "source": [
    "### Go back up to the text-box, and play around..."
   ]
  },
  {
   "cell_type": "code",
   "execution_count": null,
   "metadata": {
    "collapsed": true
   },
   "outputs": [],
   "source": []
  }
 ],
 "metadata": {
  "kernelspec": {
   "display_name": "Python 3",
   "language": "python",
   "name": "python3"
  },
  "language_info": {
   "codemirror_mode": {
    "name": "ipython",
    "version": 3
   },
   "file_extension": ".py",
   "mimetype": "text/x-python",
   "name": "python",
   "nbconvert_exporter": "python",
   "pygments_lexer": "ipython3",
   "version": "3.5.2"
  }
 },
 "nbformat": 4,
 "nbformat_minor": 0
}